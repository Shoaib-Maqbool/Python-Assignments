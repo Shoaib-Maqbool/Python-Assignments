{
 "cells": [
  {
   "cell_type": "markdown",
   "metadata": {
    "colab_type": "text",
    "id": "JtEbRsB1_P_j"
   },
   "source": [
    "\n",
    "\n",
    "##**Background**\n",
    "Selection of housing is always difficult for someone seeking for a suitable one as it includes various factors and preferences. People prefer to buy a house considering many criteria like- population, quality of life, financial capability, as well as social and natural environments around the housing block. In this assignment you will be helping people choosing suitable housing for them according to their needs.\n",
    "##**Dataset**\n",
    "**Dataset file name:** housing_dataset.csv\n",
    "\n",
    "**Dataset description:** Dataset contains total 10 features (columns). It contains the location, housing age, population, number of families in a housing (block), number of rooms, average income of the families in that housing, ocean proximity and other informaiton. Each row indicates a record of a housing block containing the features mentioned earlier.\n",
    "\n",
    "**Features:** \n",
    "\n",
    "1.   latitude (float): Latitude of the location of a housing in conventional geospace\n",
    "2.   longitude (float): Longitude of the location of a housing in conventional geospace\n",
    "3.   housing_age (int): Age of the housing in year, the higher number indicates the older housing\n",
    "4.    total_rooms (int): Total number of rooms in a housing\n",
    "5.    total_bedrooms (int): Total number of bedrooms in a housing\n",
    "6.    population (int): Total population of a housing\n",
    "7.    families (int): Total number of families living in a housing\n",
    "8.    average_income (float): Average income of the member of a housing in a scale of Tousand Dollar Per Month\n",
    "9.    ocean_proximity (string): Describing how close the housing is to the ocean\n",
    "10.   house_value (int): Average individual house price of a housing in Dollers\n"
   ]
  },
  {
   "cell_type": "markdown",
   "metadata": {},
   "source": [
    "## Average age of house blocks near the ocean"
   ]
  },
  {
   "cell_type": "code",
   "execution_count": 8,
   "metadata": {
    "colab": {},
    "colab_type": "code",
    "id": "-PmJE7wPAHeQ"
   },
   "outputs": [
    {
     "name": "stdout",
     "output_type": "stream",
     "text": [
      "Avergae age of house blocks near the ocean is 29.35\n"
     ]
    }
   ],
   "source": [
    "# INSERT your code here.\n",
    "import pandas as pd\n",
    "import statistics as st\n",
    "\n",
    "\n",
    "data = pd.read_csv(\"housing_dataset.csv\")\n",
    "Near_ocean = data[data[\"ocean_proximity\"] == 'NEAR OCEAN']\n",
    "print(\"Avergae age of house blocks near the ocean is {}\".format(round(Near_ocean['housing_age'].mean(),2)))\n",
    "\n"
   ]
  },
  {
   "cell_type": "markdown",
   "metadata": {},
   "source": [
    "## Housing block with the most and least population density (per family)."
   ]
  },
  {
   "cell_type": "code",
   "execution_count": 9,
   "metadata": {
    "colab": {},
    "colab_type": "code",
    "id": "mC3E-Fq6AYTm"
   },
   "outputs": [
    {
     "name": "stdout",
     "output_type": "stream",
     "text": [
      "Income with least populaton density is 2.5893\n",
      "Income with most population densty is 10.2264\n"
     ]
    }
   ],
   "source": [
    "# INSERT your code here.\n",
    "\n",
    "NewCol = data[\"population\"]/data[\"families\"]\n",
    "data['Population Density'] = NewCol \n",
    "\n",
    "min_density = data['Population Density'].min()\n",
    "max_density = data['Population Density'].max()\n",
    "\n",
    "Min_Income = data[data[\"Population Density\"] == min_density][\"average_income\"].item()\n",
    "print(\"Income with least populaton density is\",Min_Income)\n",
    "Max_Income = data[data[\"Population Density\"] == max_density][\"average_income\"].item()\n",
    "print(\"Income with most population densty is\",Max_Income)\n"
   ]
  },
  {
   "cell_type": "markdown",
   "metadata": {},
   "source": [
    "## Price difference between the latest and oldest housing block from the dataset."
   ]
  },
  {
   "cell_type": "code",
   "execution_count": 10,
   "metadata": {
    "colab": {},
    "colab_type": "code",
    "id": "4rKQUPpyAfWQ"
   },
   "outputs": [
    {
     "name": "stdout",
     "output_type": "stream",
     "text": [
      "Price difference between the oldest and lastest house is 131120.87$\n"
     ]
    }
   ],
   "source": [
    "# INSERT your code here.\n",
    "latest_house_age = data[\"housing_age\"].min()\n",
    "oldest_house_age = data[\"housing_age\"].max()\n",
    "\n",
    "Min_hou_age = data[data['housing_age'] == latest_house_age]['house_value'].mean()\n",
    "Max_hou_age = data[data['housing_age'] == oldest_house_age]['house_value'].mean()\n",
    "Price_Diff = Max_hou_age - Min_hou_age\n",
    "\n",
    "print(\"Price difference between the oldest and lastest house is {}$\".format(round(Price_Diff,2)))\n"
   ]
  },
  {
   "cell_type": "markdown",
   "metadata": {},
   "source": [
    "## Cheapest price per room from the dataset."
   ]
  },
  {
   "cell_type": "code",
   "execution_count": 11,
   "metadata": {
    "colab": {},
    "colab_type": "code",
    "id": "NgSh7WpaAlb1"
   },
   "outputs": [
    {
     "name": "stdout",
     "output_type": "stream",
     "text": [
      "Cheapest Price per room is 1.6\n"
     ]
    }
   ],
   "source": [
    "# INSERT your code here.\n",
    "data['Price Per Room'] = data['house_value']/data['total_rooms']\n",
    "print(\"Cheapest Price per room is {}\".format(round(data['Price Per Room'].min(),2)))\n"
   ]
  },
  {
   "cell_type": "markdown",
   "metadata": {
    "colab_type": "text",
    "id": "YpRQNYwGAncM"
   },
   "source": [
    "5.   Calculate the population density (per family) for the most and least wealthy housing blocks in the dataset."
   ]
  },
  {
   "cell_type": "markdown",
   "metadata": {},
   "source": [
    "### Population density (per family) for the most and least wealthy housing blocks in the dataset."
   ]
  },
  {
   "cell_type": "code",
   "execution_count": 14,
   "metadata": {
    "colab": {},
    "colab_type": "code",
    "id": "RtKpkz57AqVl"
   },
   "outputs": [
    {
     "name": "stdout",
     "output_type": "stream",
     "text": [
      "Population density for least and most wealthy housing blocks are 3.48 and 3.31 respectively.\n"
     ]
    }
   ],
   "source": [
    "# INSERT your code here.\n",
    "Least_Wealthy = data['average_income'].min()\n",
    "Most_Wealthy = data['average_income'].max()\n",
    "\n",
    "PD_LW = round(data[data['average_income'] == Least_Wealthy]['Population Density'].mean(),2)\n",
    "PD_MW = round(data[data['average_income'] == Most_Wealthy]['Population Density'].mean(),2)\n",
    "\n",
    "print(\"Population density for least and most wealthy housing blocks are {} and {} respectively.\".format(PD_LW,PD_MW))#"
   ]
  },
  {
   "cell_type": "markdown",
   "metadata": {},
   "source": [
    "## Price of expensive room grouped by ocean proximity."
   ]
  },
  {
   "cell_type": "code",
   "execution_count": 37,
   "metadata": {
    "colab": {},
    "colab_type": "code",
    "id": "wuMgmiElA2Eo"
   },
   "outputs": [
    {
     "data": {
      "text/plain": [
       "ocean_proximity\n",
       "<1H OCEAN     22500.000000\n",
       "INLAND        68750.000000\n",
       "ISLAND          451.807229\n",
       "NEAR BAY      62500.125000\n",
       "NEAR OCEAN    23333.333333\n",
       "Name: Price Per Room, dtype: float64"
      ]
     },
     "execution_count": 37,
     "metadata": {},
     "output_type": "execute_result"
    }
   ],
   "source": [
    "# INSERT your code here.\n",
    "data.groupby(\"ocean_proximity\")[\"Price Per Room\"].max()"
   ]
  },
  {
   "cell_type": "markdown",
   "metadata": {},
   "source": [
    "## Population scatter plot against housing age"
   ]
  },
  {
   "cell_type": "code",
   "execution_count": 16,
   "metadata": {
    "colab": {},
    "colab_type": "code",
    "id": "iKJ8-NjgA9fE"
   },
   "outputs": [
    {
     "data": {
      "text/plain": [
       "<matplotlib.axes._subplots.AxesSubplot at 0x1da4c4ec808>"
      ]
     },
     "execution_count": 16,
     "metadata": {},
     "output_type": "execute_result"
    },
    {
     "data": {
      "image/png": "[encoded data removed]",
      "text/plain": [
       "<Figure size 720x360 with 1 Axes>"
      ]
     },
     "metadata": {
      "needs_background": "light"
     },
     "output_type": "display_data"
    }
   ],
   "source": [
    "# INSERT your code here.\n",
    "import matplotlib.pyplot as plt\n",
    "import numpy as np\n",
    "fig, ax = plt.subplots(figsize=(10,5))\n",
    "\n",
    "ax.scatter(data['population'], data['housing_age'] ,\n",
    "                   \n",
    "                   alpha=0.5,\n",
    "                   facecolor='red',\n",
    "                   edgecolor='face'\n",
    "                   )\n",
    "ax.set_title('population x housing_age!')\n",
    "ax.set_xlabel('population')\n",
    "ax.set_ylabel('housing_age')\n",
    "ax"
   ]
  },
  {
   "cell_type": "markdown",
   "metadata": {},
   "source": [
    "## Bar Chart of average values of all suitable columns"
   ]
  },
  {
   "cell_type": "code",
   "execution_count": 43,
   "metadata": {
    "colab": {},
    "colab_type": "code",
    "id": "RKwoOm5OBC6w"
   },
   "outputs": [
    {
     "data": {
      "text/plain": [
       "Text(0.5, 1.0, 'Column Means')"
      ]
     },
     "execution_count": 43,
     "metadata": {},
     "output_type": "execute_result"
    },
    {
     "data": {
      "image/png": "[encoded data removed]",
      "text/plain": [
       "<Figure size 432x288 with 1 Axes>"
      ]
     },
     "metadata": {
      "needs_background": "light"
     },
     "output_type": "display_data"
    }
   ],
   "source": [
    "fig2, bx = plt.subplots()\n",
    "freq = [data['housing_age'].mean(),\n",
    "        data['total_rooms'].mean(),\n",
    "        data['total_bedrooms'].mean(),\n",
    "      data['population'].mean(),\n",
    "     data['families'].mean(),\n",
    "    data['average_income'].mean(),\n",
    "     #  data['house_value'].mean(),\n",
    "       data['Population Density'].mean(),\n",
    "       data['Price Per Room'].mean()]\n",
    "xps = np.arange(len(freq))\n",
    "#color = ['red','blue','green','yellow','purple','pink','black','brown','orange']\n",
    "bx.bar(xps,freq, align=\"center\",color=color)\n",
    "bx.set_title('Column Means')"
   ]
  },
  {
   "cell_type": "markdown",
   "metadata": {},
   "source": [
    "#### Saving the details of all housing blocks in a csv file having houses near oceans and lower than the average of the housing value."
   ]
  },
  {
   "cell_type": "code",
   "execution_count": 44,
   "metadata": {
    "colab": {},
    "colab_type": "code",
    "id": "c0BR_AMxBOu_"
   },
   "outputs": [],
   "source": [
    "# INSERT your code here.\n",
    "export1 = data[(data['ocean_proximity'] == 'NEAR BAY') & (data['house_value'] < data['house_value'].mean())]\n",
    "export1.to_csv('export1.csv')\n"
   ]
  },
  {
   "cell_type": "markdown",
   "metadata": {},
   "source": [
    "#### Creating a new housing dataset (a csv file) having only the location, total rooms and housing price information."
   ]
  },
  {
   "cell_type": "code",
   "execution_count": 45,
   "metadata": {
    "colab": {},
    "colab_type": "code",
    "id": "uwmK7HfYdzHd"
   },
   "outputs": [],
   "source": [
    "# INSERT your code here.\n",
    "export2 = [data['longitude'],data['latitude'],data['total_rooms'],data['house_value']]\n",
    "\n",
    "export2 = pd.DataFrame(export2).transpose()\n",
    "export2.to_csv('export2.csv')"
   ]
  }
 ],
 "metadata": {
  "colab": {
   "collapsed_sections": [],
   "name": "A1.ipynb",
   "provenance": []
  },
  "kernelspec": {
   "display_name": "Python 3",
   "language": "python",
   "name": "python3"
  },
  "language_info": {
   "codemirror_mode": {
    "name": "ipython",
    "version": 3
   },
   "file_extension": ".py",
   "mimetype": "text/x-python",
   "name": "python",
   "nbconvert_exporter": "python",
   "pygments_lexer": "ipython3",
   "version": "3.7.6"
  }
 },
 "nbformat": 4,
 "nbformat_minor": 1
}
