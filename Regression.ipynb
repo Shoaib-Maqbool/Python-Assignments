{
 "cells": [
  {
   "cell_type": "markdown",
   "metadata": {
    "colab_type": "text",
    "id": "74dkCyjsNE7_"
   },
   "source": [
    "#**SIT 720 - Machine Learning**\n",
    "\n",
    "Lecturer: Chandan Karmakar | karmakar@deakin.edu.au\n",
    "\n",
    "School of Information Technology,\n",
    "<br/>Deakin University, VIC 3125, Australia."
   ]
  },
  {
   "cell_type": "markdown",
   "metadata": {
    "colab_type": "text",
    "id": "gQhIyRIHNIhu"
   },
   "source": [
    "#**Assessment Task 3 (40 marks)**\n",
    "\n",
    "##Submission Instruction\n",
    "1.  Student should insert Python code or text responses into the cell followed by the question.\n",
    "\n",
    "2.  For answers regarding discussion or explanation, **maximum five sentences are suggested**.\n",
    "\n",
    "3.  Rename this notebook file appending your student ID. For example, for student ID 1234, the submitted file name should be A3_1234.ipynb.\n",
    "\n",
    "4.  Insert your student ID and name in the following cell."
   ]
  },
  {
   "cell_type": "code",
   "execution_count": null,
   "metadata": {
    "colab": {},
    "colab_type": "code",
    "id": "gdZPzuPLNM5f"
   },
   "outputs": [],
   "source": [
    "# Student ID: 219351188\n",
    "\n",
    "# Student name: Shoaib Maqbool"
   ]
  },
  {
   "cell_type": "markdown",
   "metadata": {
    "colab_type": "text",
    "id": "8Bb-CS27NWdS"
   },
   "source": [
    "## Background\n",
    "\n",
    "Environment and its changes are the most complex system. It is unarguably accepted that the temperature changes are greately affected by various environmental factors. Many of them are positively related to the  change, whereas, some have negative correlation. In this assesment task, you will analyse relationship among various environmental factors, which affect temperature.\n",
    "\n",
    "##The dataset\n",
    "\n",
    "**Dataset file name:** weather_dataset.csv\n",
    "\n",
    "**Dataset description:** The dataset contains total 10 features. Each row contains an hourly record of weather status and the data was recorded for the time period between 2006 and 2016.\n",
    "\n",
    "**Features and labels:** \n",
    "\n",
    "1.   recording_date_time (date_time): Date and time the data was recorded\n",
    "2.   precip_type (string): Precipitation status, blank (no value) indicates unknown status\n",
    "3.   temperature (float): Temperature in degree Celsius\n",
    "4.   apparent_temperature (float): Feel like temperature in degree Celsius\n",
    "5.   humidity (float): Percentage amount of water vapour in the air \n",
    "6.   wind_speed (float): Speed of the wind in km per hour\n",
    "7.   wind_bearing (int): The direction of wind in degree in geo-polar co-ordinate. Value 0 means perfect east, 90 means perfect north, 180 and 270 means west and south respectively.\n",
    "8.   visibility (float): Distance in km that is visible in naked eyes.\n",
    "9.   cloud_cover (float): The fraction of the sky obscured by clouds. The value is 1 if the observed area is fully cloudy, 0 if no clouds and other fractional value indicates the portion of the area covered by clouds.\n",
    "10.   pressure (float): Air pressure or atmospheric in milibars\n"
   ]
  },
  {
   "cell_type": "markdown",
   "metadata": {
    "colab_type": "text",
    "id": "TkUeSXbIODoE"
   },
   "source": [
    "##**Part 1: Linear Regression:**  **(25 marks)**\n",
    "\n",
    "\n",
    "1.   Load the dataset and split the data for training and testing - consider the data of last 2 years (2015 and 2016) for testing. Now exclude recording_date_time column from both training and test sets. Display the shape of training and test sets. **(3 marks)**"
   ]
  },
  {
   "cell_type": "code",
   "execution_count": 18,
   "metadata": {
    "colab": {},
    "colab_type": "code",
    "id": "KugpF4o5OKHD",
    "scrolled": false
   },
   "outputs": [],
   "source": [
    "# INSERT your code (or comment) here\n",
    "import pandas as pd\n",
    "import numpy as np\n",
    "import matplotlib as plt\n",
    "import sklearn as sk\n",
    "from sklearn.linear_model import LinearRegression\n",
    "from sklearn.linear_model import LogisticRegression\n",
    "from sklearn.metrics import mean_absolute_error,r2_score,recall_score,f1_score\n",
    "from sklearn.model_selection import train_test_split\n",
    "from sklearn.linear_model import Ridge\n",
    "import warnings\n",
    "warnings.filterwarnings('ignore')\n",
    "\n",
    "\n",
    "\n",
    "data = pd.read_csv('weather_dataset.csv')\n",
    "\n",
    "#Encoding Percip_type\n",
    "\n",
    "encoded_percip_type = []\n",
    "for i in data['precip_type']:\n",
    "    if i == 'rain':\n",
    "        encoded_percip_type.append('0')\n",
    "    else: \n",
    "        encoded_percip_type.append('1')\n",
    "data['encoded_precip_type'] = encoded_percip_type\n",
    "\n",
    "#Removing Cloud Cover because NAN value\n",
    "del data['cloud_cover']"
   ]
  },
  {
   "cell_type": "code",
   "execution_count": 79,
   "metadata": {},
   "outputs": [],
   "source": []
  },
  {
   "cell_type": "code",
   "execution_count": 2,
   "metadata": {},
   "outputs": [
    {
     "name": "stdout",
     "output_type": "stream",
     "text": [
      "Shape of training data is (78909, 9)\n",
      "Shape of testing data is (17544, 9)\n"
     ]
    }
   ],
   "source": [
    "#Spliting the data\n",
    "train_data = data[(data['recording_date_time'].str[:4] != '2015') & (data['recording_date_time'].str[:4] != '2016') ] \n",
    "test_data = data[(data['recording_date_time'].str[:4] == '2015') | (data['recording_date_time'].str[:4] == '2016') ] \n",
    "del train_data['recording_date_time'],test_data['recording_date_time']\n",
    "\n",
    "print(\"Shape of training data is {}\".format(train_data.shape))\n",
    "print(\"Shape of testing data is {}\".format(test_data.shape))\n"
   ]
  },
  {
   "cell_type": "markdown",
   "metadata": {
    "colab_type": "text",
    "id": "tir1JyxlOVQf"
   },
   "source": [
    "2.  Consider the 'temperature' as the target. List the insignificant features for predicting temperature, if any. Explain your findings. **(5 marks)**\n",
    "<br/><font color='green'>**[Hint for students: See the \"7.3 Relevance and Covariance among features or variables\" for more information.]** <font/>"
   ]
  },
  {
   "cell_type": "code",
   "execution_count": 3,
   "metadata": {
    "colab": {},
    "colab_type": "code",
    "id": "hMLc-93uOMhY",
    "scrolled": false
   },
   "outputs": [
    {
     "data": {
      "text/html": [
       "<div>\n",
       "<style scoped>\n",
       "    .dataframe tbody tr th:only-of-type {\n",
       "        vertical-align: middle;\n",
       "    }\n",
       "\n",
       "    .dataframe tbody tr th {\n",
       "        vertical-align: top;\n",
       "    }\n",
       "\n",
       "    .dataframe thead th {\n",
       "        text-align: right;\n",
       "    }\n",
       "</style>\n",
       "<table border=\"1\" class=\"dataframe\">\n",
       "  <thead>\n",
       "    <tr style=\"text-align: right;\">\n",
       "      <th></th>\n",
       "      <th>temperature</th>\n",
       "      <th>apparent_temperature</th>\n",
       "      <th>humidity</th>\n",
       "      <th>wind_speed</th>\n",
       "      <th>wind_bearing</th>\n",
       "      <th>visibility</th>\n",
       "      <th>pressure</th>\n",
       "    </tr>\n",
       "  </thead>\n",
       "  <tbody>\n",
       "    <tr>\n",
       "      <th>temperature</th>\n",
       "      <td>1.000000</td>\n",
       "      <td>0.992628</td>\n",
       "      <td>-0.632253</td>\n",
       "      <td>0.008957</td>\n",
       "      <td>0.029988</td>\n",
       "      <td>0.392781</td>\n",
       "      <td>-0.005447</td>\n",
       "    </tr>\n",
       "    <tr>\n",
       "      <th>apparent_temperature</th>\n",
       "      <td>0.992628</td>\n",
       "      <td>1.000000</td>\n",
       "      <td>-0.602570</td>\n",
       "      <td>-0.056649</td>\n",
       "      <td>0.029030</td>\n",
       "      <td>0.381658</td>\n",
       "      <td>-0.000218</td>\n",
       "    </tr>\n",
       "    <tr>\n",
       "      <th>humidity</th>\n",
       "      <td>-0.632253</td>\n",
       "      <td>-0.602570</td>\n",
       "      <td>1.000000</td>\n",
       "      <td>-0.224951</td>\n",
       "      <td>0.000735</td>\n",
       "      <td>-0.369077</td>\n",
       "      <td>0.005454</td>\n",
       "    </tr>\n",
       "    <tr>\n",
       "      <th>wind_speed</th>\n",
       "      <td>0.008957</td>\n",
       "      <td>-0.056649</td>\n",
       "      <td>-0.224951</td>\n",
       "      <td>1.000000</td>\n",
       "      <td>0.103823</td>\n",
       "      <td>0.100745</td>\n",
       "      <td>-0.049260</td>\n",
       "    </tr>\n",
       "    <tr>\n",
       "      <th>wind_bearing</th>\n",
       "      <td>0.029988</td>\n",
       "      <td>0.029030</td>\n",
       "      <td>0.000735</td>\n",
       "      <td>0.103823</td>\n",
       "      <td>1.000000</td>\n",
       "      <td>0.047614</td>\n",
       "      <td>-0.011651</td>\n",
       "    </tr>\n",
       "    <tr>\n",
       "      <th>visibility</th>\n",
       "      <td>0.392781</td>\n",
       "      <td>0.381658</td>\n",
       "      <td>-0.369077</td>\n",
       "      <td>0.100745</td>\n",
       "      <td>0.047614</td>\n",
       "      <td>1.000000</td>\n",
       "      <td>0.059826</td>\n",
       "    </tr>\n",
       "    <tr>\n",
       "      <th>pressure</th>\n",
       "      <td>-0.005447</td>\n",
       "      <td>-0.000218</td>\n",
       "      <td>0.005454</td>\n",
       "      <td>-0.049260</td>\n",
       "      <td>-0.011651</td>\n",
       "      <td>0.059826</td>\n",
       "      <td>1.000000</td>\n",
       "    </tr>\n",
       "  </tbody>\n",
       "</table>\n",
       "</div>"
      ],
      "text/plain": [
       "                      temperature  apparent_temperature  humidity  wind_speed  \\\n",
       "temperature              1.000000              0.992628 -0.632253    0.008957   \n",
       "apparent_temperature     0.992628              1.000000 -0.602570   -0.056649   \n",
       "humidity                -0.632253             -0.602570  1.000000   -0.224951   \n",
       "wind_speed               0.008957             -0.056649 -0.224951    1.000000   \n",
       "wind_bearing             0.029988              0.029030  0.000735    0.103823   \n",
       "visibility               0.392781              0.381658 -0.369077    0.100745   \n",
       "pressure                -0.005447             -0.000218  0.005454   -0.049260   \n",
       "\n",
       "                      wind_bearing  visibility  pressure  \n",
       "temperature               0.029988    0.392781 -0.005447  \n",
       "apparent_temperature      0.029030    0.381658 -0.000218  \n",
       "humidity                  0.000735   -0.369077  0.005454  \n",
       "wind_speed                0.103823    0.100745 -0.049260  \n",
       "wind_bearing              1.000000    0.047614 -0.011651  \n",
       "visibility                0.047614    1.000000  0.059826  \n",
       "pressure                 -0.011651    0.059826  1.000000  "
      ]
     },
     "execution_count": 3,
     "metadata": {},
     "output_type": "execute_result"
    }
   ],
   "source": [
    "# INSERT your code (or comment) here\n",
    "data.corr(method= 'pearson')\n"
   ]
  },
  {
   "cell_type": "markdown",
   "metadata": {},
   "source": [
    "Looking at the co relation of dependent variable with the independent variables. I beleive that apparent_temperature and humidty are the only significant features. Apparent Temperature has a strong positive relationship with temperature followed by humidty which has a decent negative relationship. I think variables like pressure, wind bearing, wind speed and visibility have no or weak relationship with the dependent variable tmperature."
   ]
  },
  {
   "cell_type": "markdown",
   "metadata": {
    "colab_type": "text",
    "id": "_mC_pm60V4VB"
   },
   "source": [
    "3.  Now create a linear model considering the 'temperature' as the target variable and other columns as features (you can optionally remove non-contributing features). Show the test performance (as Mean Absolute Error, MAE) of the model. **(5 marks)**"
   ]
  },
  {
   "cell_type": "code",
   "execution_count": 7,
   "metadata": {
    "colab": {},
    "colab_type": "code",
    "id": "wUIhRhssWq8h"
   },
   "outputs": [
    {
     "name": "stdout",
     "output_type": "stream",
     "text": [
      "Mean Absolute error is 0.76\n"
     ]
    }
   ],
   "source": [
    "# INSERT your code (or comment) here\n",
    "\n",
    "my_model = LinearRegression()\n",
    "\n",
    "#fit the model using our data\n",
    "my_model.fit(train_data[['apparent_temperature','humidity']], train_data['temperature'])\n",
    "\n",
    "predicted_y = my_model.predict(test_data[['apparent_temperature','humidity']])\n",
    "\n",
    "MAE = mean_absolute_error(predicted_y,test_data['temperature'])\n",
    "print(\"Mean Absolute error is {}\".format(round(MAE,2)))\n"
   ]
  },
  {
   "cell_type": "markdown",
   "metadata": {
    "colab_type": "text",
    "id": "v428CdiaOaad"
   },
   "source": [
    "4.   Find the feature which shows maximum correlation with \"pressure\". Create a linear regression model to predict temperature using these two features ('pressure' and the one which shows maximum correlation). Compare the performance of this simplified model with the model developed in the previous question (Q-3). Explain the performance variation, if any. **(6 marks)**"
   ]
  },
  {
   "cell_type": "code",
   "execution_count": 10,
   "metadata": {
    "colab": {},
    "colab_type": "code",
    "id": "aKsPiuGCOM5F"
   },
   "outputs": [
    {
     "name": "stdout",
     "output_type": "stream",
     "text": [
      "The mean absolute value for pressure and visibility is 6.5\n"
     ]
    }
   ],
   "source": [
    "# INSERT your code (or comment) here\n",
    "\n",
    "my_model2 = LinearRegression()\n",
    "\n",
    "#fit the model using our data\n",
    "my_model2.fit(train_data[['pressure','visibility']], train_data['temperature'])\n",
    "\n",
    "predicted_y_2 = my_model2.predict(test_data[['pressure','visibility']])\n",
    "\n",
    "MAE2 = mean_absolute_error(predicted_y_2,test_data['temperature'])\n",
    "print(\"The mean absolute value for pressure and visibility is {}\".format(round(MAE2,2)))"
   ]
  },
  {
   "cell_type": "markdown",
   "metadata": {},
   "source": [
    "Looking at the co relation table above, the variable which was highly co related with pressure is visibility so based on that I have perform the linear regression above. The mean absolute error of these 2 variables with respect to temperature is high and I was expecting that because both of these variables have no or weak relationship with the dependent variable temperature.\n",
    "\n",
    "The mean absolute error is 0.74 and 6.49 for the previous model and the one with pressure and visibility respectively. Their is less error in the previous order because the independent variables have high co relation with the dependent variable temperature compared to pressure and visibility and the temperature. "
   ]
  },
  {
   "cell_type": "markdown",
   "metadata": {
    "colab_type": "text",
    "id": "0-jv9d7oOtHe"
   },
   "source": [
    "5. Apportion the complete dataset into training and test sets, with an 40-60 split. **(6 marks)**\n",
    "\n",
    "  (a)  Train a linear regression model without considering overfitting scenario and report the test performance. \n",
    "  \n",
    "  (b) Create an optimal regularised linear regression model and report the test performance.\n",
    "  \n",
    "  (c) Explain the reason behind the performance variation, if any.\n"
   ]
  },
  {
   "cell_type": "code",
   "execution_count": 12,
   "metadata": {},
   "outputs": [
    {
     "name": "stdout",
     "output_type": "stream",
     "text": [
      "The mean absolute value is 0.74\n"
     ]
    }
   ],
   "source": [
    "# INSERT your answer in maximum five sentences.\n",
    "\n",
    "train_data_2,test_data_2 = train_test_split(data, test_size=0.6)\n",
    "del train_data_2['recording_date_time'],test_data_2['recording_date_time']\n",
    "\n",
    "\n",
    "my_model3 = LinearRegression()\n",
    "\n",
    "#fit the model using our data\n",
    "my_model3.fit(train_data_2[['encoded_precip_type',\n",
    "                                'apparent_temperature',\n",
    "                               'humidity',\n",
    "                               'wind_speed',\n",
    "                               'wind_bearing',\n",
    "                               'visibility',\n",
    "                               'pressure']], train_data_2['temperature'])\n",
    "\n",
    "predicted_y_3 = my_model3.predict(test_data_2[['encoded_precip_type',\n",
    "                                'apparent_temperature',\n",
    "                               'humidity',\n",
    "                               'wind_speed',\n",
    "                               'wind_bearing',\n",
    "                               'visibility',\n",
    "                             \n",
    "                               'pressure']])\n",
    "\n",
    "mae3 = mean_absolute_error(predicted_y_3,test_data_2['temperature'])\n",
    "print(\"The mean absolute value is {}\".format(round(mae3,2)))"
   ]
  },
  {
   "cell_type": "code",
   "execution_count": 15,
   "metadata": {},
   "outputs": [
    {
     "name": "stdout",
     "output_type": "stream",
     "text": [
      "When Alpha is 0.001, the mean absolute value is 0.7424\n",
      "When Alpha is 0.003, the mean absolute value is 0.7425\n",
      "When Alpha is 0.01, the mean absolute value is 0.7481\n",
      "When Alpha is 0.03, the mean absolute value is 0.7994\n",
      "When Alpha is 1, the mean absolute value is 3.4754\n",
      "When Alpha is 3, the mean absolute value is 5.2314\n",
      "When Alpha is 5, the mean absolute value is 5.9803\n",
      "When Alpha is 10, the mean absolute value is 6.7751\n",
      "When Alpha is 30, the mean absolute value is 7.4885\n"
     ]
    }
   ],
   "source": [
    "\n",
    "alphas = [0.001,0.003,0.01,0.03,1,3,5,10,30]\n",
    "\n",
    "for i in alphas:\n",
    "    ridgelr = Ridge(alpha=i, normalize=True) \n",
    "\n",
    "#Fit our data\n",
    "    ridgelr.fit(train_data_2[['encoded_precip_type',\n",
    "                                'apparent_temperature',\n",
    "                               'humidity',\n",
    "                               'wind_speed',\n",
    "                               'wind_bearing',\n",
    "                               'visibility',\n",
    "                               'pressure']], train_data_2['temperature'])\n",
    "\n",
    "# Do a prediction\n",
    "    predicted_y_4 = ridgelr.predict(test_data_2[['encoded_precip_type',\n",
    "                                'apparent_temperature',\n",
    "                               'humidity',\n",
    "                               'wind_speed',\n",
    "                               'wind_bearing',\n",
    "                               'visibility',\n",
    "                               'pressure']])\n",
    "    \n",
    "#Evaluate our model with mean square error\n",
    "    mae4 = mean_absolute_error(predicted_y_4,test_data_2['temperature'])\n",
    "    print(\"When Alpha is {}, the mean absolute value is {}\".format(i,round(mae4,4)))"
   ]
  },
  {
   "cell_type": "markdown",
   "metadata": {
    "colab": {},
    "colab_type": "code",
    "id": "jNk_egyXONc2"
   },
   "source": [
    "At Alpha level 0.003, I get the lowest Mean Absolute value for the model but when compared to the model in the previous part. I feel that both the models dont have much variaton and are pretty much the same. Linear Regression is perfectly fit. "
   ]
  },
  {
   "cell_type": "markdown",
   "metadata": {
    "colab_type": "text",
    "id": "CtcCZwIMOxwi"
   },
   "source": [
    "##**Part 2: Logistic Regression:**  **(9 marks)**\n",
    "\n",
    "1.  Can the same target (temperature, mentioned in Part-1) be used for logistic regression? Why? **(2 marks)**"
   ]
  },
  {
   "cell_type": "markdown",
   "metadata": {
    "colab": {},
    "colab_type": "code",
    "id": "knM4rfghOORu"
   },
   "source": [
    "I beleive that we can not use logistic regression on the variable temperature because logistic regression works on binary response variable only. The independent variables can be continous and discrete but the dependent variable can not. It has to be a categorical variable which is further encoded into dummy variables."
   ]
  },
  {
   "cell_type": "markdown",
   "metadata": {
    "colab_type": "text",
    "id": "a5w0t5-To1nB"
   },
   "source": [
    "2.  Split the dataset as 70-30% for training and testing. Create a logistic regression model to predict the 'precip_type'. Report the prediction accuracy of your model whether the \"precip_type\" is \"rain\" or not (use decision threshold of 0.45). **(5 marks)**\n",
    "\n"
   ]
  },
  {
   "cell_type": "code",
   "execution_count": 21,
   "metadata": {
    "colab": {},
    "colab_type": "code",
    "id": "vzRgiUq9wEHY"
   },
   "outputs": [],
   "source": [
    "# INSERT your code (or comment) here\n",
    "\n",
    "train_data_3,test_data_3 = train_test_split(data, test_size=0.3)\n",
    "my_model4 = LogisticRegression()\n",
    "\n",
    "my_model4.fit(train_data_3[['temperature',\n",
    "                            'apparent_temperature',\n",
    "                            'humidity',\n",
    "                            'wind_speed',\n",
    "                            'wind_bearing',\n",
    "                            'visibility',\n",
    "                            'pressure']], train_data_3['encoded_precip_type'])\n",
    "\n",
    "predicted_y_5 = my_model4.predict(test_data_3[['temperature',\n",
    "                                    'apparent_temperature',\n",
    "                                    'humidity',\n",
    "                                    'wind_speed',\n",
    "                                    'wind_bearing',\n",
    "                                    'visibility',\n",
    "                                    'pressure']])\n",
    "\n"
   ]
  },
  {
   "cell_type": "code",
   "execution_count": 22,
   "metadata": {},
   "outputs": [],
   "source": [
    "# INSERT your code (or comment) here\n",
    "\n",
    "train_data_3,test_data_3 = train_test_split(data, test_size=0.3)\n",
    "\n",
    "clf = LogisticRegression(class_weight=\"balanced\")\n",
    "clf.fit(train_data_3[['temperature',\n",
    "                            'apparent_temperature',\n",
    "                            'humidity',\n",
    "                            'wind_speed',\n",
    "                            'wind_bearing',\n",
    "                            'visibility',\n",
    "                            'pressure']], train_data_3['encoded_precip_type'])\n",
    "THRESHOLD = 0.45\n",
    "predicted_y_6 = np.where(clf.predict_proba(test_data_3[['temperature',\n",
    "                                    'apparent_temperature',\n",
    "                                    'humidity',\n",
    "                                    'wind_speed',\n",
    "                                    'wind_bearing',\n",
    "                                    'visibility',\n",
    "                                    'pressure']]) > THRESHOLD, 0,1)\n",
    "test_data_3['encoded_precip_type'] =test_data_3['encoded_precip_type'].astype(int)\n",
    "\n",
    "\n"
   ]
  },
  {
   "cell_type": "code",
   "execution_count": null,
   "metadata": {},
   "outputs": [],
   "source": []
  },
  {
   "cell_type": "markdown",
   "metadata": {
    "colab_type": "text",
    "id": "Yn7--XRkrIK9"
   },
   "source": [
    " 3.  Discuss the test performance using precision, recall and confusion matrix. **(2 marks)**"
   ]
  },
  {
   "cell_type": "code",
   "execution_count": 287,
   "metadata": {
    "colab": {},
    "colab_type": "code",
    "id": "7GpmkeRLOOkM"
   },
   "outputs": [
    {
     "name": "stdout",
     "output_type": "stream",
     "text": [
      "The Accuracy Score is 0.9255598562344485\n",
      "\n",
      "The Recall score is 0.9557444314185228\n",
      "\n",
      "The Confusion Matrix is: \n",
      "[[23521  2003]\n",
      " [  151  3261]] \n"
     ]
    }
   ],
   "source": [
    "# INSERT your code (or comment) here\n",
    "accuracy = accuracy_score(test_data_3['encoded_precip_type'],predicted_y_6[:,0])\n",
    "recall  = recall_score(test_data_3['encoded_precip_type'],predicted_y_6[:,0])\n",
    "confusion = confusion_matrix(test_data_3['encoded_precip_type'],predicted_y_6[:,0])\n",
    "\n",
    "print(\"The Accuracy Score is {}\\n\".format(accuracy))\n",
    "\n",
    "print(\"The Recall score is {}\\n\".format(recall))\n",
    "\n",
    "print(\"The Confusion Matrix is: \\n{} \".format(confusion))"
   ]
  },
  {
   "cell_type": "markdown",
   "metadata": {
    "colab_type": "text",
    "id": "uJZCDkQcH_k6"
   },
   "source": [
    "##**Part 3: Objective function optimisation:**  **(6 marks)**"
   ]
  },
  {
   "cell_type": "markdown",
   "metadata": {
    "colab_type": "text",
    "id": "7DrSojxhXpwL"
   },
   "source": [
    "Let’s consider the line graphs shown below and answer the following questions [Hint: See weekly content 7.4-7.10],"
   ]
  },
  {
   "cell_type": "markdown",
   "metadata": {
    "colab_type": "text",
    "id": "iBRBSZiqKzLh"
   },
   "source": [
    "\n",
    "a.  Which of the above figures represents the convex objective function and why? (**1 marks**)\n",
    "\n",
    "b.  Which hyper-parameter can help to reach the convergence point and the impact of value selection? (**2 marks**)\n",
    "\n",
    "c.  How can we find the global minima for the objective function shown in Figure-b? _[N.B. Conceptual description will be accepted.]_ (**3 marks**)"
   ]
  },
  {
   "cell_type": "markdown",
   "metadata": {},
   "source": [
    "(A). The Image A demostrate the convex function while Image B represents the non convex nature. This is because, in convex optimal we have only one gradient descent with the global minima point, while in non convex we can have many slopes."
   ]
  },
  {
   "cell_type": "markdown",
   "metadata": {},
   "source": [
    "(B). Many hyper parameters can be used for example Aplha, Momentum, BETA and other. We use them to optimize the function to find the steepest point. However, the consequences are, that we can reach to local minima point with them rather quickly rather than reaching to the global point."
   ]
  },
  {
   "cell_type": "markdown",
   "metadata": {},
   "source": [
    "(C). There are many algos we can use, for example, Gradient descent, Momentum Gradient Descent, ADAGRAD and etc. To find the optimum point we start at the random point until we reach to the point where we do not have any more slope and have the longest plateau before going upward."
   ]
  }
 ],
 "metadata": {
  "colab": {
   "collapsed_sections": [],
   "name": "A3.ipynb",
   "provenance": []
  },
  "kernelspec": {
   "display_name": "Python 3",
   "language": "python",
   "name": "python3"
  },
  "language_info": {
   "codemirror_mode": {
    "name": "ipython",
    "version": 3
   },
   "file_extension": ".py",
   "mimetype": "text/x-python",
   "name": "python",
   "nbconvert_exporter": "python",
   "pygments_lexer": "ipython3",
   "version": "3.7.6"
  }
 },
 "nbformat": 4,
 "nbformat_minor": 4
}
