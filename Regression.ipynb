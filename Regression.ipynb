{
 "cells": [
  {
   "cell_type": "markdown",
   "metadata": {
    "colab_type": "text",
    "id": "8Bb-CS27NWdS"
   },
   "source": [
    "Environment and its changes are the most complex system. It is unarguably accepted that the temperature changes are greately affected by various environmental factors. Many of them are positively related to the  change, whereas, some have negative correlation. In this assesment task, you will analyse relationship among various environmental factors, which affect temperature.\n",
    "\n",
    "\n",
    "\n",
    "**Dataset file name:** weather_dataset.csv\n",
    "\n",
    "**Dataset description:** The dataset contains total 10 features. Each row contains an hourly record of weather status and the data was recorded for the time period between 2006 and 2016.\n",
    "\n",
    "**Features and labels:** \n",
    "\n",
    "1.   recording_date_time (date_time): Date and time the data was recorded\n",
    "2.   precip_type (string): Precipitation status, blank (no value) indicates unknown status\n",
    "3.   temperature (float): Temperature in degree Celsius\n",
    "4.   apparent_temperature (float): Feel like temperature in degree Celsius\n",
    "5.   humidity (float): Percentage amount of water vapour in the air \n",
    "6.   wind_speed (float): Speed of the wind in km per hour\n",
    "7.   wind_bearing (int): The direction of wind in degree in geo-polar co-ordinate. Value 0 means perfect east, 90 means perfect north, 180 and 270 means west and south respectively.\n",
    "8.   visibility (float): Distance in km that is visible in naked eyes.\n",
    "9.   cloud_cover (float): The fraction of the sky obscured by clouds. The value is 1 if the observed area is fully cloudy, 0 if no clouds and other fractional value indicates the portion of the area covered by clouds.\n",
    "10.   pressure (float): Air pressure or atmospheric in milibars\n"
   ]
  },
  {
   "cell_type": "markdown",
   "metadata": {},
   "source": [
    "## Importing the libraries and data. (Only Sleecting data for the years 2015 and 2016)"
   ]
  },
  {
   "cell_type": "code",
   "execution_count": 2,
   "metadata": {
    "colab": {},
    "colab_type": "code",
    "id": "KugpF4o5OKHD",
    "scrolled": false
   },
   "outputs": [],
   "source": [
    "# INSERT your code (or comment) here\n",
    "import pandas as pd\n",
    "import numpy as np\n",
    "import matplotlib as plt\n",
    "import sklearn as sk\n",
    "from sklearn.linear_model import LinearRegression\n",
    "from sklearn.linear_model import LogisticRegression\n",
    "from sklearn.metrics import mean_absolute_error,r2_score,recall_score,f1_score\n",
    "from sklearn.model_selection import train_test_split\n",
    "from sklearn.linear_model import Ridge\n",
    "import warnings\n",
    "warnings.filterwarnings('ignore')\n",
    "\n",
    "\n",
    "\n",
    "data = pd.read_csv('weather_dataset.csv')\n",
    "\n",
    "#Encoding Percip_type\n",
    "\n",
    "encoded_percip_type = []\n",
    "for i in data['precip_type']:\n",
    "    if i == 'rain':\n",
    "        encoded_percip_type.append('0')\n",
    "    else: \n",
    "        encoded_percip_type.append('1')\n",
    "data['encoded_precip_type'] = encoded_percip_type\n",
    "\n",
    "#Removing Cloud Cover because NAN value\n",
    "del data['cloud_cover']"
   ]
  },
  {
   "cell_type": "markdown",
   "metadata": {},
   "source": [
    "## Splitting the Data into test and train data"
   ]
  },
  {
   "cell_type": "code",
   "execution_count": 3,
   "metadata": {},
   "outputs": [
    {
     "name": "stdout",
     "output_type": "stream",
     "text": [
      "Shape of training data is (78909, 9)\n",
      "Shape of testing data is (17544, 9)\n"
     ]
    }
   ],
   "source": [
    "#Spliting the data\n",
    "train_data = data[(data['recording_date_time'].str[:4] != '2015') & (data['recording_date_time'].str[:4] != '2016') ] \n",
    "test_data = data[(data['recording_date_time'].str[:4] == '2015') | (data['recording_date_time'].str[:4] == '2016') ] \n",
    "del train_data['recording_date_time'],test_data['recording_date_time']\n",
    "\n",
    "print(\"Shape of training data is {}\".format(train_data.shape))\n",
    "print(\"Shape of testing data is {}\".format(test_data.shape))\n"
   ]
  },
  {
   "cell_type": "markdown",
   "metadata": {},
   "source": [
    "## Considering temperature as the dependent variable. Using co relation method to select the best independent variables for dependent variable temprerature"
   ]
  },
  {
   "cell_type": "code",
   "execution_count": 4,
   "metadata": {
    "colab": {},
    "colab_type": "code",
    "id": "hMLc-93uOMhY",
    "scrolled": false
   },
   "outputs": [
    {
     "data": {
      "text/html": [
       "<div>\n",
       "<style scoped>\n",
       "    .dataframe tbody tr th:only-of-type {\n",
       "        vertical-align: middle;\n",
       "    }\n",
       "\n",
       "    .dataframe tbody tr th {\n",
       "        vertical-align: top;\n",
       "    }\n",
       "\n",
       "    .dataframe thead th {\n",
       "        text-align: right;\n",
       "    }\n",
       "</style>\n",
       "<table border=\"1\" class=\"dataframe\">\n",
       "  <thead>\n",
       "    <tr style=\"text-align: right;\">\n",
       "      <th></th>\n",
       "      <th>temperature</th>\n",
       "      <th>apparent_temperature</th>\n",
       "      <th>humidity</th>\n",
       "      <th>wind_speed</th>\n",
       "      <th>wind_bearing</th>\n",
       "      <th>visibility</th>\n",
       "      <th>pressure</th>\n",
       "    </tr>\n",
       "  </thead>\n",
       "  <tbody>\n",
       "    <tr>\n",
       "      <th>temperature</th>\n",
       "      <td>1.000000</td>\n",
       "      <td>0.992628</td>\n",
       "      <td>-0.632253</td>\n",
       "      <td>0.008957</td>\n",
       "      <td>0.029988</td>\n",
       "      <td>0.392781</td>\n",
       "      <td>-0.005447</td>\n",
       "    </tr>\n",
       "    <tr>\n",
       "      <th>apparent_temperature</th>\n",
       "      <td>0.992628</td>\n",
       "      <td>1.000000</td>\n",
       "      <td>-0.602570</td>\n",
       "      <td>-0.056649</td>\n",
       "      <td>0.029030</td>\n",
       "      <td>0.381658</td>\n",
       "      <td>-0.000218</td>\n",
       "    </tr>\n",
       "    <tr>\n",
       "      <th>humidity</th>\n",
       "      <td>-0.632253</td>\n",
       "      <td>-0.602570</td>\n",
       "      <td>1.000000</td>\n",
       "      <td>-0.224951</td>\n",
       "      <td>0.000735</td>\n",
       "      <td>-0.369077</td>\n",
       "      <td>0.005454</td>\n",
       "    </tr>\n",
       "    <tr>\n",
       "      <th>wind_speed</th>\n",
       "      <td>0.008957</td>\n",
       "      <td>-0.056649</td>\n",
       "      <td>-0.224951</td>\n",
       "      <td>1.000000</td>\n",
       "      <td>0.103823</td>\n",
       "      <td>0.100745</td>\n",
       "      <td>-0.049260</td>\n",
       "    </tr>\n",
       "    <tr>\n",
       "      <th>wind_bearing</th>\n",
       "      <td>0.029988</td>\n",
       "      <td>0.029030</td>\n",
       "      <td>0.000735</td>\n",
       "      <td>0.103823</td>\n",
       "      <td>1.000000</td>\n",
       "      <td>0.047614</td>\n",
       "      <td>-0.011651</td>\n",
       "    </tr>\n",
       "    <tr>\n",
       "      <th>visibility</th>\n",
       "      <td>0.392781</td>\n",
       "      <td>0.381658</td>\n",
       "      <td>-0.369077</td>\n",
       "      <td>0.100745</td>\n",
       "      <td>0.047614</td>\n",
       "      <td>1.000000</td>\n",
       "      <td>0.059826</td>\n",
       "    </tr>\n",
       "    <tr>\n",
       "      <th>pressure</th>\n",
       "      <td>-0.005447</td>\n",
       "      <td>-0.000218</td>\n",
       "      <td>0.005454</td>\n",
       "      <td>-0.049260</td>\n",
       "      <td>-0.011651</td>\n",
       "      <td>0.059826</td>\n",
       "      <td>1.000000</td>\n",
       "    </tr>\n",
       "  </tbody>\n",
       "</table>\n",
       "</div>"
      ],
      "text/plain": [
       "                      temperature  apparent_temperature  humidity  wind_speed  \\\n",
       "temperature              1.000000              0.992628 -0.632253    0.008957   \n",
       "apparent_temperature     0.992628              1.000000 -0.602570   -0.056649   \n",
       "humidity                -0.632253             -0.602570  1.000000   -0.224951   \n",
       "wind_speed               0.008957             -0.056649 -0.224951    1.000000   \n",
       "wind_bearing             0.029988              0.029030  0.000735    0.103823   \n",
       "visibility               0.392781              0.381658 -0.369077    0.100745   \n",
       "pressure                -0.005447             -0.000218  0.005454   -0.049260   \n",
       "\n",
       "                      wind_bearing  visibility  pressure  \n",
       "temperature               0.029988    0.392781 -0.005447  \n",
       "apparent_temperature      0.029030    0.381658 -0.000218  \n",
       "humidity                  0.000735   -0.369077  0.005454  \n",
       "wind_speed                0.103823    0.100745 -0.049260  \n",
       "wind_bearing              1.000000    0.047614 -0.011651  \n",
       "visibility                0.047614    1.000000  0.059826  \n",
       "pressure                 -0.011651    0.059826  1.000000  "
      ]
     },
     "execution_count": 4,
     "metadata": {},
     "output_type": "execute_result"
    }
   ],
   "source": [
    "\n",
    "data.corr(method= 'pearson')\n"
   ]
  },
  {
   "cell_type": "markdown",
   "metadata": {},
   "source": [
    "Looking at the co relation of dependent variable with the independent variables. I beleive that apparent_temperature and humidty are the only significant features. Apparent Temperature has a strong positive relationship with temperature followed by humidty which has a decent negative relationship. I think variables like pressure, wind bearing, wind speed and visibility have no or weak relationship with the dependent variable tmperature."
   ]
  },
  {
   "cell_type": "markdown",
   "metadata": {
    "colab_type": "text",
    "id": "_mC_pm60V4VB"
   },
   "source": [
    "3.  Now create a linear model considering the 'temperature' as the target variable and other columns as features (you can optionally remove non-contributing features). Show the test performance (as Mean Absolute Error, MAE) of the model. **(5 marks)**"
   ]
  },
  {
   "cell_type": "markdown",
   "metadata": {},
   "source": [
    "### Using linear Regression Model with independent variables Apparent temperature and humidity and reporting the Mean absolute error."
   ]
  },
  {
   "cell_type": "code",
   "execution_count": 5,
   "metadata": {
    "colab": {},
    "colab_type": "code",
    "id": "wUIhRhssWq8h"
   },
   "outputs": [
    {
     "name": "stdout",
     "output_type": "stream",
     "text": [
      "Mean Absolute error is 0.76%\n"
     ]
    }
   ],
   "source": [
    "# INSERT your code (or comment) here\n",
    "\n",
    "my_model = LinearRegression()\n",
    "\n",
    "#fit the model using our data\n",
    "my_model.fit(train_data[['apparent_temperature','humidity']], train_data['temperature'])\n",
    "\n",
    "predicted_y = my_model.predict(test_data[['apparent_temperature','humidity']])\n",
    "\n",
    "MAE = mean_absolute_error(predicted_y,test_data['temperature'])\n",
    "print(\"Mean Absolute error is {}\".format(round(MAE,2)))\n"
   ]
  },
  {
   "cell_type": "markdown",
   "metadata": {},
   "source": [
    "### Split the data 70-30% for training and testing and implementing logistic regression to predict the 'pecip_type' variable."
   ]
  },
  {
   "cell_type": "code",
   "execution_count": 21,
   "metadata": {
    "colab": {},
    "colab_type": "code",
    "id": "vzRgiUq9wEHY"
   },
   "outputs": [],
   "source": [
    "\n",
    "train_data_3,test_data_3 = train_test_split(data, test_size=0.3)\n",
    "my_model4 = LogisticRegression()\n",
    "\n",
    "my_model4.fit(train_data_3[['temperature',\n",
    "                            'apparent_temperature',\n",
    "                            'humidity',\n",
    "                            'wind_speed',\n",
    "                            'wind_bearing',\n",
    "                            'visibility',\n",
    "                            'pressure']], train_data_3['encoded_precip_type'])\n",
    "\n",
    "predicted_y_5 = my_model4.predict(test_data_3[['temperature',\n",
    "                                    'apparent_temperature',\n",
    "                                    'humidity',\n",
    "                                    'wind_speed',\n",
    "                                    'wind_bearing',\n",
    "                                    'visibility',\n",
    "                                    'pressure']])\n",
    "\n"
   ]
  }
 ],
 "metadata": {
  "colab": {
   "collapsed_sections": [],
   "name": "A3.ipynb",
   "provenance": []
  },
  "kernelspec": {
   "display_name": "Python 3",
   "language": "python",
   "name": "python3"
  },
  "language_info": {
   "codemirror_mode": {
    "name": "ipython",
    "version": 3
   },
   "file_extension": ".py",
   "mimetype": "text/x-python",
   "name": "python",
   "nbconvert_exporter": "python",
   "pygments_lexer": "ipython3",
   "version": "3.7.6"
  }
 },
 "nbformat": 4,
 "nbformat_minor": 4
}
