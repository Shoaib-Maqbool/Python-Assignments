{
 "cells": [
  {
   "cell_type": "markdown",
   "metadata": {
    "colab_type": "text",
    "id": "06bbe_5WGk3v"
   },
   "source": [
    "#**SIT 720 - Machine Learning**\n",
    "\n",
    "Lecturer: Chandan Karmakar | karmakar@deakin.edu.au\n",
    "\n",
    "School of Information Technology,\n",
    "<br/>Deakin University, VIC 3125, Australia."
   ]
  },
  {
   "cell_type": "markdown",
   "metadata": {
    "colab_type": "text",
    "id": "es6VJF6zGpZi"
   },
   "source": [
    "#**Assessment Task 2 (30 marks)**\n",
    "\n",
    "##**Submission Instruction**\n",
    "1.  Student should insert Python code or text responses into the cell followed by the question.\n",
    "\n",
    "2.  For answers regarding discussion or explanation, **maximum five sentences are suggested**.\n",
    "\n",
    "3.  Rename this notebook file appending your student ID. For example, for student ID 1234, the submitted file name should be A2_1234.ipynb.\n",
    "\n",
    "4.  Insert your student ID and name in the following cell."
   ]
  },
  {
   "cell_type": "code",
   "execution_count": 1,
   "metadata": {
    "colab": {},
    "colab_type": "code",
    "id": "IeD67KEpG8I6"
   },
   "outputs": [],
   "source": [
    "# Student ID: 219351188\n",
    "\n",
    "# Student name: Shoaib Maqbool"
   ]
  },
  {
   "cell_type": "markdown",
   "metadata": {
    "colab_type": "text",
    "id": "oYFXM_D7HCHb"
   },
   "source": [
    "## Part 1: Clustering *(15 marks)*\n",
    "\n",
    "Let's assume you want to design an environment to predict a class/category from a dataset based on specific features of that class. However, all the features are not strong enough or in other words features not that much variance/uniqueness across the classes. So, you have to design a clustering model by answering the following questions:\n",
    "\n",
    "1. Download the attached clustering.csv file. Read the file and separate the class and feature matrix. __(2 marks)__"
   ]
  },
  {
   "cell_type": "code",
   "execution_count": 1,
   "metadata": {
    "colab": {},
    "colab_type": "code",
    "id": "crKN9O9jKi4w"
   },
   "outputs": [],
   "source": [
    "# INSERT your code (or comment) here\n",
    "import pandas as pd\n",
    "import numpy as np\n",
    "import matplotlib as plt\n",
    "import matplotlib.pyplot as plt\n",
    "from sklearn.cluster import KMeans\n",
    "from sklearn import metrics\n",
    "from pyclustering.utils.metric import distance_metric, type_metric\n",
    "from pyclustering.cluster.kmeans import kmeans, kmeans_visualizer\n",
    "from pyclustering.cluster.center_initializer import kmeans_plusplus_initializer\n",
    "from sklearn.feature_selection import SelectKBest,chi2,f_classif\n",
    "\n"
   ]
  },
  {
   "cell_type": "code",
   "execution_count": 2,
   "metadata": {},
   "outputs": [],
   "source": [
    "data = np.genfromtxt(\"clustering.csv\", delimiter=\",\", skip_header=1)\n",
    "lst = [7]\n",
    "features = (np.delete(data,lst,1))\n",
    "clusters = (np.delete(data,[0,1,2,3,4,5,6],1))"
   ]
  },
  {
   "cell_type": "markdown",
   "metadata": {
    "colab_type": "text",
    "id": "3CYvoztIKjoq"
   },
   "source": [
    "2. Determine the number of clusters from the dataset. Is this same as the actual number of classes in the dataset? __(1 marks)__\n",
    "\n",
    "<!-- Choose the best three features using different selection criteria (ANOVA, Chi-squared) based on the purity score for the k-mean cluster (Euclidean distance matrix). Which one is good and why? __(5 marks)__ -->"
   ]
  },
  {
   "cell_type": "code",
   "execution_count": 3,
   "metadata": {
    "colab": {},
    "colab_type": "code",
    "id": "WFia7uNt5POP"
   },
   "outputs": [
    {
     "data": {
      "image/png": "[encoded data removed]",
      "text/plain": [
       "<Figure size 576x360 with 1 Axes>"
      ]
     },
     "metadata": {
      "needs_background": "light"
     },
     "output_type": "display_data"
    }
   ],
   "source": [
    "\n",
    "#Using elbow method to determine the clusters\n",
    "distortions = []\n",
    "K = range(1,10)\n",
    "for k in K:\n",
    "    kmeanModel = KMeans(n_clusters=k)\n",
    "    kmeanModel.fit(features)\n",
    "    distortions.append(kmeanModel.inertia_)\n",
    "\n",
    "plt.figure(figsize=(8,5))\n",
    "plt.plot(K, distortions, 'bx-')\n",
    "plt.xlabel('k cluster value')\n",
    "plt.ylabel('Distortion')\n",
    "plt.title('The Elbow Method showing the optimal k')\n",
    "plt.grid()\n",
    "plt.show()\n"
   ]
  },
  {
   "cell_type": "markdown",
   "metadata": {
    "colab_type": "text",
    "id": "lomdzPf33Ga8"
   },
   "source": [
    "3. Perform K-Means clustering on the complete dataset and report purity score. __(2 marks)__ "
   ]
  },
  {
   "cell_type": "code",
   "execution_count": 4,
   "metadata": {
    "colab": {},
    "colab_type": "code",
    "id": "UaI08RF5KoPK",
    "scrolled": true
   },
   "outputs": [
    {
     "name": "stdout",
     "output_type": "stream",
     "text": [
      "Data Point:  [15.26  14.84   0.871  5.763  3.312  2.221  5.22 ]  Cluster:  2\n",
      "Data Point:  [14.88   14.57    0.8811  5.554   3.333   1.018   4.956 ]  Cluster:  2\n",
      "Data Point:  [14.29  14.09   0.905  5.291  3.337  2.699  4.825]  Cluster:  2\n",
      "Data Point:  [13.84   13.94    0.8955  5.324   3.379   2.259   4.805 ]  Cluster:  2\n",
      "Data Point:  [16.14   14.99    0.9034  5.658   3.562   1.355   5.175 ]  Cluster:  2\n",
      "Data Point:  [14.38   14.21    0.8951  5.386   3.312   2.462   4.956 ]  Cluster:  2\n",
      "Data Point:  [14.69   14.49    0.8799  5.563   3.259   3.586   5.219 ]  Cluster:  2\n",
      "Data Point:  [14.11   14.1     0.8911  5.42    3.302   2.7     5.    ]  Cluster:  2\n",
      "Data Point:  [16.63   15.46    0.8747  6.053   3.465   2.04    5.877 ]  Cluster:  2\n",
      "Data Point:  [16.44  15.25   0.888  5.884  3.505  1.969  5.533]  Cluster:  2\n",
      "Data Point:  [15.26   14.85    0.8696  5.714   3.242   4.543   5.314 ]  Cluster:  2\n",
      "Data Point:  [14.03   14.16    0.8796  5.438   3.201   1.717   5.001 ]  Cluster:  2\n",
      "Data Point:  [13.89  14.02   0.888  5.439  3.199  3.986  4.738]  Cluster:  2\n",
      "Data Point:  [13.78   14.06    0.8759  5.479   3.156   3.136   4.872 ]  Cluster:  2\n",
      "Data Point:  [13.74   14.05    0.8744  5.482   3.114   2.932   4.825 ]  Cluster:  2\n",
      "Data Point:  [14.59   14.28    0.8993  5.351   3.333   4.185   4.781 ]  Cluster:  2\n",
      "Data Point:  [13.99   13.83    0.9183  5.119   3.383   5.234   4.781 ]  Cluster:  0\n",
      "Data Point:  [15.69   14.75    0.9058  5.527   3.514   1.599   5.046 ]  Cluster:  2\n",
      "Data Point:  [14.7    14.21    0.9153  5.205   3.466   1.767   4.649 ]  Cluster:  2\n",
      "Data Point:  [12.72   13.57    0.8686  5.226   3.049   4.102   4.914 ]  Cluster:  0\n",
      "Data Point:  [14.16   14.4     0.8584  5.658   3.129   3.072   5.176 ]  Cluster:  2\n",
      "Data Point:  [14.11   14.26    0.8722  5.52    3.168   2.688   5.219 ]  Cluster:  2\n",
      "Data Point:  [15.88   14.9     0.8988  5.618   3.507   0.7651  5.091 ]  Cluster:  2\n",
      "Data Point:  [12.08   13.23    0.8664  5.099   2.936   1.415   4.961 ]  Cluster:  2\n",
      "Data Point:  [15.01   14.76    0.8657  5.789   3.245   1.791   5.001 ]  Cluster:  2\n",
      "Data Point:  [16.19   15.16    0.8849  5.833   3.421   0.903   5.307 ]  Cluster:  2\n",
      "Data Point:  [13.02   13.76    0.8641  5.395   3.026   3.373   4.825 ]  Cluster:  0\n",
      "Data Point:  [12.74   13.67    0.8564  5.395   2.956   2.504   4.869 ]  Cluster:  2\n",
      "Data Point:  [14.11  14.18   0.882  5.541  3.221  2.754  5.038]  Cluster:  2\n",
      "Data Point:  [13.45   14.02    0.8604  5.516   3.065   3.531   5.097 ]  Cluster:  2\n",
      "Data Point:  [13.16   13.82    0.8662  5.454   2.975   0.8551  5.056 ]  Cluster:  2\n",
      "Data Point:  [15.49   14.94    0.8724  5.757   3.371   3.412   5.228 ]  Cluster:  2\n",
      "Data Point:  [14.09   14.41    0.8529  5.717   3.186   3.92    5.299 ]  Cluster:  2\n",
      "Data Point:  [13.94   14.17    0.8728  5.585   3.15    2.124   5.012 ]  Cluster:  2\n",
      "Data Point:  [15.05   14.68    0.8779  5.712   3.328   2.129   5.36  ]  Cluster:  2\n",
      "Data Point:  [16.12  15.     0.9    5.709  3.485  2.27   5.443]  Cluster:  2\n",
      "Data Point:  [16.2    15.27    0.8734  5.826   3.464   2.823   5.527 ]  Cluster:  2\n",
      "Data Point:  [17.08   15.38    0.9079  5.832   3.683   2.956   5.484 ]  Cluster:  1\n",
      "Data Point:  [14.8    14.52    0.8823  5.656   3.288   3.112   5.309 ]  Cluster:  2\n",
      "Data Point:  [14.28   14.17    0.8944  5.397   3.298   6.685   5.001 ]  Cluster:  0\n",
      "Data Point:  [13.54   13.85    0.8871  5.348   3.156   2.587   5.178 ]  Cluster:  2\n",
      "Data Point:  [13.5    13.85    0.8852  5.351   3.158   2.249   5.176 ]  Cluster:  2\n",
      "Data Point:  [13.16   13.55    0.9009  5.138   3.201   2.461   4.783 ]  Cluster:  2\n",
      "Data Point:  [15.5   14.86   0.882  5.877  3.396  4.711  5.528]  Cluster:  2\n",
      "Data Point:  [15.11   14.54    0.8986  5.579   3.462   3.128   5.18  ]  Cluster:  2\n",
      "Data Point:  [13.8    14.04    0.8794  5.376   3.155   1.56    4.961 ]  Cluster:  2\n",
      "Data Point:  [15.36   14.76    0.8861  5.701   3.393   1.367   5.132 ]  Cluster:  2\n",
      "Data Point:  [14.99   14.56    0.8883  5.57    3.377   2.958   5.175 ]  Cluster:  2\n",
      "Data Point:  [14.79   14.52    0.8819  5.545   3.291   2.704   5.111 ]  Cluster:  2\n",
      "Data Point:  [14.86   14.67    0.8676  5.678   3.258   2.129   5.351 ]  Cluster:  2\n",
      "Data Point:  [14.43   14.4     0.8751  5.585   3.272   3.975   5.144 ]  Cluster:  2\n",
      "Data Point:  [15.78   14.91    0.8923  5.674   3.434   5.593   5.136 ]  Cluster:  2\n",
      "Data Point:  [14.49   14.61    0.8538  5.715   3.113   4.116   5.396 ]  Cluster:  2\n",
      "Data Point:  [14.33   14.28    0.8831  5.504   3.199   3.328   5.224 ]  Cluster:  2\n",
      "Data Point:  [14.52   14.6     0.8557  5.741   3.113   1.481   5.487 ]  Cluster:  2\n",
      "Data Point:  [15.03   14.77    0.8658  5.702   3.212   1.933   5.439 ]  Cluster:  2\n",
      "Data Point:  [14.46   14.35    0.8818  5.388   3.377   2.802   5.044 ]  Cluster:  2\n",
      "Data Point:  [14.92   14.43    0.9006  5.384   3.412   1.142   5.088 ]  Cluster:  2\n",
      "Data Point:  [15.38   14.77    0.8857  5.662   3.419   1.999   5.222 ]  Cluster:  2\n",
      "Data Point:  [12.11   13.47    0.8392  5.159   3.032   1.502   4.519 ]  Cluster:  2\n",
      "Data Point:  [11.42   12.86    0.8683  5.008   2.85    2.7     4.607 ]  Cluster:  0\n",
      "Data Point:  [11.23  12.63   0.884  4.902  2.879  2.269  4.703]  Cluster:  0\n",
      "Data Point:  [12.36   13.19    0.8923  5.076   3.042   3.22    4.605 ]  Cluster:  0\n",
      "Data Point:  [13.22  13.84   0.868  5.395  3.07   4.157  5.088]  Cluster:  0\n",
      "Data Point:  [12.78   13.57    0.8716  5.262   3.026   1.176   4.782 ]  Cluster:  2\n",
      "Data Point:  [12.88   13.5     0.8879  5.139   3.119   2.352   4.607 ]  Cluster:  2\n",
      "Data Point:  [14.34   14.37    0.8726  5.63    3.19    1.313   5.15  ]  Cluster:  2\n",
      "Data Point:  [14.01   14.29    0.8625  5.609   3.158   2.217   5.132 ]  Cluster:  2\n",
      "Data Point:  [14.37   14.39    0.8726  5.569   3.153   1.464   5.3   ]  Cluster:  2\n",
      "Data Point:  [12.73   13.75    0.8458  5.412   2.882   3.533   5.067 ]  Cluster:  0\n",
      "Data Point:  [17.63   15.98    0.8673  6.191   3.561   4.076   6.06  ]  Cluster:  1\n",
      "Data Point:  [16.84   15.67    0.8623  5.998   3.484   4.675   5.877 ]  Cluster:  1\n",
      "Data Point:  [17.26   15.73    0.8763  5.978   3.594   4.539   5.791 ]  Cluster:  1\n",
      "Data Point:  [19.11   16.26    0.9081  6.154   3.93    2.936   6.079 ]  Cluster:  1\n",
      "Data Point:  [16.82   15.51    0.8786  6.017   3.486   4.004   5.841 ]  Cluster:  1\n",
      "Data Point:  [16.77   15.62    0.8638  5.927   3.438   4.92    5.795 ]  Cluster:  1\n",
      "Data Point:  [17.32   15.91    0.8599  6.064   3.403   3.824   5.922 ]  Cluster:  1\n",
      "Data Point:  [20.71   17.23    0.8763  6.579   3.814   4.451   6.451 ]  Cluster:  1\n",
      "Data Point:  [18.94  16.49   0.875  6.445  3.639  5.064  6.362]  Cluster:  1\n",
      "Data Point:  [17.12   15.55    0.8892  5.85    3.566   2.858   5.746 ]  Cluster:  1\n",
      "Data Point:  [16.53   15.34    0.8823  5.875   3.467   5.532   5.88  ]  Cluster:  1\n",
      "Data Point:  [18.72   16.19    0.8977  6.006   3.857   5.324   5.879 ]  Cluster:  1\n",
      "Data Point:  [20.2    16.89    0.8894  6.285   3.864   5.173   6.187 ]  Cluster:  1\n",
      "Data Point:  [19.57   16.74    0.8779  6.384   3.772   1.472   6.273 ]  Cluster:  1\n",
      "Data Point:  [19.51  16.71   0.878  6.366  3.801  2.962  6.185]  Cluster:  1\n",
      "Data Point:  [18.27  16.09   0.887  6.173  3.651  2.443  6.197]  Cluster:  1\n",
      "Data Point:  [18.88   16.26    0.8969  6.084   3.764   1.649   6.109 ]  Cluster:  1\n",
      "Data Point:  [18.98  16.66   0.859  6.549  3.67   3.691  6.498]  Cluster:  1\n",
      "Data Point:  [21.18   17.21    0.8989  6.573   4.033   5.78    6.231 ]  Cluster:  1\n",
      "Data Point:  [20.88   17.05    0.9031  6.45    4.032   5.016   6.321 ]  Cluster:  1\n",
      "Data Point:  [20.1    16.99    0.8746  6.581   3.785   1.955   6.449 ]  Cluster:  1\n",
      "Data Point:  [18.76   16.2     0.8984  6.172   3.796   3.12    6.053 ]  Cluster:  1\n",
      "Data Point:  [18.81   16.29    0.8906  6.272   3.693   3.237   6.053 ]  Cluster:  1\n",
      "Data Point:  [18.59   16.05    0.9066  6.037   3.86    6.001   5.877 ]  Cluster:  1\n",
      "Data Point:  [18.36   16.52    0.8452  6.666   3.485   4.933   6.448 ]  Cluster:  1\n",
      "Data Point:  [16.87   15.65    0.8648  6.139   3.463   3.696   5.967 ]  Cluster:  1\n",
      "Data Point:  [19.31   16.59    0.8815  6.341   3.81    3.477   6.238 ]  Cluster:  1\n",
      "Data Point:  [18.98   16.57    0.8687  6.449   3.552   2.144   6.453 ]  Cluster:  1\n",
      "Data Point:  [18.17   16.26    0.8637  6.271   3.512   2.853   6.273 ]  Cluster:  1\n",
      "Data Point:  [18.72  16.34   0.881  6.219  3.684  2.188  6.097]  Cluster:  1\n",
      "Data Point:  [16.41   15.25    0.8866  5.718   3.525   4.217   5.618 ]  Cluster:  2\n",
      "Data Point:  [17.99   15.86    0.8992  5.89    3.694   2.068   5.837 ]  Cluster:  1\n",
      "Data Point:  [19.46   16.5     0.8985  6.113   3.892   4.308   6.009 ]  Cluster:  1\n",
      "Data Point:  [19.18   16.63    0.8717  6.369   3.681   3.357   6.229 ]  Cluster:  1\n",
      "Data Point:  [18.95   16.42    0.8829  6.248   3.755   3.368   6.148 ]  Cluster:  1\n",
      "Data Point:  [18.83   16.29    0.8917  6.037   3.786   2.553   5.879 ]  Cluster:  1\n",
      "Data Point:  [18.85   16.17    0.9056  6.152   3.806   2.843   6.2   ]  Cluster:  1\n",
      "Data Point:  [17.63  15.86   0.88   6.033  3.573  3.747  5.929]  Cluster:  1\n",
      "Data Point:  [19.94   16.92    0.8752  6.675   3.763   3.252   6.55  ]  Cluster:  1\n",
      "Data Point:  [18.55   16.22    0.8865  6.153   3.674   1.738   5.894 ]  Cluster:  1\n",
      "Data Point:  [18.45   16.12    0.8921  6.107   3.769   2.235   5.794 ]  Cluster:  1\n",
      "Data Point:  [19.38   16.72    0.8716  6.303   3.791   3.678   5.965 ]  Cluster:  1\n",
      "Data Point:  [19.13   16.31    0.9035  6.183   3.902   2.109   5.924 ]  Cluster:  1\n",
      "Data Point:  [19.14   16.61    0.8722  6.259   3.737   6.682   6.053 ]  Cluster:  1\n",
      "Data Point:  [20.97   17.25    0.8859  6.563   3.991   4.677   6.316 ]  Cluster:  1\n",
      "Data Point:  [19.06   16.45    0.8854  6.416   3.719   2.248   6.163 ]  Cluster:  1\n",
      "Data Point:  [18.96   16.2     0.9077  6.051   3.897   4.334   5.75  ]  Cluster:  1\n",
      "Data Point:  [19.15  16.45   0.889  6.245  3.815  3.084  6.185]  Cluster:  1\n",
      "Data Point:  [18.89   16.23    0.9008  6.227   3.769   3.639   5.966 ]  Cluster:  1\n",
      "Data Point:  [20.03   16.9     0.8811  6.493   3.857   3.063   6.32  ]  Cluster:  1\n",
      "Data Point:  [20.24   16.91    0.8897  6.315   3.962   5.901   6.188 ]  Cluster:  1\n",
      "Data Point:  [18.14   16.12    0.8772  6.059   3.563   3.619   6.011 ]  Cluster:  1\n",
      "Data Point:  [16.17   15.38    0.8588  5.762   3.387   4.286   5.703 ]  Cluster:  2\n",
      "Data Point:  [18.43   15.97    0.9077  5.98    3.771   2.984   5.905 ]  Cluster:  1\n",
      "Data Point:  [15.99   14.89    0.9064  5.363   3.582   3.336   5.144 ]  Cluster:  2\n",
      "Data Point:  [18.75   16.18    0.8999  6.111   3.869   4.188   5.992 ]  Cluster:  1\n",
      "Data Point:  [18.65   16.41    0.8698  6.285   3.594   4.391   6.102 ]  Cluster:  1\n",
      "Data Point:  [17.98   15.85    0.8993  5.979   3.687   2.257   5.919 ]  Cluster:  1\n",
      "Data Point:  [20.16   17.03    0.8735  6.513   3.773   1.91    6.185 ]  Cluster:  1\n",
      "Data Point:  [17.55   15.66    0.8991  5.791   3.69    5.366   5.661 ]  Cluster:  1\n",
      "Data Point:  [18.3    15.89    0.9108  5.979   3.755   2.837   5.962 ]  Cluster:  1\n",
      "Data Point:  [18.94   16.32    0.8942  6.144   3.825   2.908   5.949 ]  Cluster:  1\n",
      "Data Point:  [15.38   14.9     0.8706  5.884   3.268   4.462   5.795 ]  Cluster:  2\n",
      "Data Point:  [16.16   15.33    0.8644  5.845   3.395   4.266   5.795 ]  Cluster:  2\n",
      "Data Point:  [15.56   14.89    0.8823  5.776   3.408   4.972   5.847 ]  Cluster:  2\n",
      "Data Point:  [15.38  14.66   0.899  5.477  3.465  3.6    5.439]  Cluster:  2\n",
      "Data Point:  [17.36   15.76    0.8785  6.145   3.574   3.526   5.971 ]  Cluster:  1\n",
      "Data Point:  [15.57   15.15    0.8527  5.92    3.231   2.64    5.879 ]  Cluster:  2\n",
      "Data Point:  [15.6   15.11   0.858  5.832  3.286  2.725  5.752]  Cluster:  2\n",
      "Data Point:  [16.23  15.18   0.885  5.872  3.472  3.769  5.922]  Cluster:  2\n",
      "Data Point:  [13.07  13.92   0.848  5.472  2.994  5.304  5.395]  Cluster:  0\n",
      "Data Point:  [13.32   13.94    0.8613  5.541   3.073   7.035   5.44  ]  Cluster:  0\n",
      "Data Point:  [13.34  13.95   0.862  5.389  3.074  5.995  5.307]  Cluster:  0\n",
      "Data Point:  [12.22   13.32    0.8652  5.224   2.967   5.469   5.221 ]  Cluster:  0\n",
      "Data Point:  [11.82   13.4     0.8274  5.314   2.777   4.471   5.178 ]  Cluster:  0\n",
      "Data Point:  [11.21   13.13    0.8167  5.279   2.687   6.169   5.275 ]  Cluster:  0\n",
      "Data Point:  [11.43   13.13    0.8335  5.176   2.719   2.221   5.132 ]  Cluster:  0\n",
      "Data Point:  [12.49   13.46    0.8658  5.267   2.967   4.421   5.002 ]  Cluster:  0\n",
      "Data Point:  [12.7    13.71    0.8491  5.386   2.911   3.26    5.316 ]  Cluster:  0\n",
      "Data Point:  [10.79   12.93    0.8107  5.317   2.648   5.462   5.194 ]  Cluster:  0\n",
      "Data Point:  [11.83   13.23    0.8496  5.263   2.84    5.195   5.307 ]  Cluster:  0\n",
      "Data Point:  [12.01   13.52    0.8249  5.405   2.776   6.992   5.27  ]  Cluster:  0\n",
      "Data Point:  [12.26   13.6     0.8333  5.408   2.833   4.756   5.36  ]  Cluster:  0\n",
      "Data Point:  [11.18   13.04    0.8266  5.22    2.693   3.332   5.001 ]  Cluster:  0\n",
      "Data Point:  [11.36   13.05    0.8382  5.175   2.755   4.048   5.263 ]  Cluster:  0\n",
      "Data Point:  [11.19   13.05    0.8253  5.25    2.675   5.813   5.219 ]  Cluster:  0\n",
      "Data Point:  [11.34   12.87    0.8596  5.053   2.849   3.347   5.003 ]  Cluster:  0\n",
      "Data Point:  [12.13   13.73    0.8081  5.394   2.745   4.825   5.22  ]  Cluster:  0\n",
      "Data Point:  [11.75   13.52    0.8082  5.444   2.678   4.378   5.31  ]  Cluster:  0\n",
      "Data Point:  [11.49   13.22    0.8263  5.304   2.695   5.388   5.31  ]  Cluster:  0\n",
      "Data Point:  [12.54   13.67    0.8425  5.451   2.879   3.082   5.491 ]  Cluster:  0\n",
      "Data Point:  [12.02   13.33    0.8503  5.35    2.81    4.271   5.308 ]  Cluster:  0\n",
      "Data Point:  [12.05   13.41    0.8416  5.267   2.847   4.988   5.046 ]  Cluster:  0\n",
      "Data Point:  [12.55   13.57    0.8558  5.333   2.968   4.419   5.176 ]  Cluster:  0\n",
      "Data Point:  [11.14   12.79    0.8558  5.011   2.794   6.388   5.049 ]  Cluster:  0\n",
      "Data Point:  [12.1    13.15    0.8793  5.105   2.941   2.201   5.056 ]  Cluster:  0\n",
      "Data Point:  [12.44   13.59    0.8462  5.319   2.897   4.924   5.27  ]  Cluster:  0\n",
      "Data Point:  [12.15   13.45    0.8443  5.417   2.837   3.638   5.338 ]  Cluster:  0\n",
      "Data Point:  [11.35   13.12    0.8291  5.176   2.668   4.337   5.132 ]  Cluster:  0\n",
      "Data Point:  [11.24   13.      0.8359  5.09    2.715   3.521   5.088 ]  Cluster:  0\n",
      "Data Point:  [11.02   13.      0.8189  5.325   2.701   6.735   5.163 ]  Cluster:  0\n",
      "Data Point:  [11.55   13.1     0.8455  5.167   2.845   6.715   4.956 ]  Cluster:  0\n",
      "Data Point:  [11.27   12.97    0.8419  5.088   2.763   4.309   5.    ]  Cluster:  0\n",
      "Data Point:  [11.4    13.08    0.8375  5.136   2.763   5.588   5.089 ]  Cluster:  0\n",
      "Data Point:  [10.83   12.96    0.8099  5.278   2.641   5.182   5.185 ]  Cluster:  0\n",
      "Data Point:  [10.8   12.57   0.859  4.981  2.821  4.773  5.063]  Cluster:  0\n",
      "Data Point:  [11.26   13.01    0.8355  5.186   2.71    5.335   5.092 ]  Cluster:  0\n",
      "Data Point:  [10.74   12.73    0.8329  5.145   2.642   4.702   4.963 ]  Cluster:  0\n",
      "Data Point:  [11.48   13.05    0.8473  5.18    2.758   5.876   5.002 ]  Cluster:  0\n",
      "Data Point:  [12.21   13.47    0.8453  5.357   2.893   1.661   5.178 ]  Cluster:  2\n",
      "Data Point:  [11.41  12.95   0.856  5.09   2.775  4.957  4.825]  Cluster:  0\n",
      "Data Point:  [12.46   13.41    0.8706  5.236   3.017   4.987   5.147 ]  Cluster:  0\n",
      "Data Point:  [12.19   13.36    0.8579  5.24    2.909   4.857   5.158 ]  Cluster:  0\n",
      "Data Point:  [11.65   13.07    0.8575  5.108   2.85    5.209   5.135 ]  Cluster:  0\n",
      "Data Point:  [12.89   13.77    0.8541  5.495   3.026   6.185   5.316 ]  Cluster:  0\n",
      "Data Point:  [11.56   13.31    0.8198  5.363   2.683   4.062   5.182 ]  Cluster:  0\n",
      "Data Point:  [11.81   13.45    0.8198  5.413   2.716   4.898   5.352 ]  Cluster:  0\n",
      "Data Point:  [10.91   12.8     0.8372  5.088   2.675   4.179   4.956 ]  Cluster:  0\n",
      "Data Point:  [11.23   12.82    0.8594  5.089   2.821   7.524   4.957 ]  Cluster:  0\n",
      "Data Point:  [10.59   12.41    0.8648  4.899   2.787   4.975   4.794 ]  Cluster:  0\n",
      "Data Point:  [10.93  12.8    0.839  5.046  2.717  5.398  5.045]  Cluster:  0\n",
      "Data Point:  [11.27   12.86    0.8563  5.091   2.804   3.985   5.001 ]  Cluster:  0\n",
      "Data Point:  [11.87   13.02    0.8795  5.132   2.953   3.597   5.132 ]  Cluster:  0\n",
      "Data Point:  [10.82   12.83    0.8256  5.18    2.63    4.853   5.089 ]  Cluster:  0\n",
      "Data Point:  [12.11   13.27    0.8639  5.236   2.975   4.132   5.012 ]  Cluster:  0\n",
      "Data Point:  [12.8   13.47   0.886  5.16   3.126  4.873  4.914]  Cluster:  0\n",
      "Data Point:  [12.79   13.53    0.8786  5.224   3.054   5.483   4.958 ]  Cluster:  0\n",
      "Data Point:  [13.37   13.78    0.8849  5.32    3.128   4.67    5.091 ]  Cluster:  0\n",
      "Data Point:  [12.62   13.67    0.8481  5.41    2.911   3.306   5.231 ]  Cluster:  0\n",
      "Data Point:  [12.76   13.38    0.8964  5.073   3.155   2.828   4.83  ]  Cluster:  0\n",
      "Data Point:  [12.38   13.44    0.8609  5.219   2.989   5.472   5.045 ]  Cluster:  0\n",
      "Data Point:  [12.67   13.32    0.8977  4.984   3.135   2.3     4.745 ]  Cluster:  2\n",
      "Data Point:  [11.18  12.72   0.868  5.009  2.81   4.051  4.828]  Cluster:  0\n",
      "Data Point:  [12.7    13.41    0.8874  5.183   3.091   8.456   5.    ]  Cluster:  0\n",
      "Data Point:  [12.37   13.47    0.8567  5.204   2.96    3.919   5.001 ]  Cluster:  0\n",
      "Data Point:  [12.19   13.2     0.8783  5.137   2.981   3.631   4.87  ]  Cluster:  0\n",
      "Data Point:  [11.23   12.88    0.8511  5.14    2.795   4.325   5.003 ]  Cluster:  0\n",
      "Data Point:  [13.2    13.66    0.8883  5.236   3.232   8.315   5.056 ]  Cluster:  0\n",
      "Data Point:  [11.84   13.21    0.8521  5.175   2.836   3.598   5.044 ]  Cluster:  0\n",
      "Data Point:  [12.3    13.34    0.8684  5.243   2.974   5.637   5.063 ]  Cluster:  0\n"
     ]
    }
   ],
   "source": [
    "# INSERT your code (or comment) here\n",
    "\n",
    "kmeans = KMeans(n_clusters=3) #n_clusters define the number of clusters to find\n",
    "kmeans.fit(features) # we use .fit() to fit the data (learning)\n",
    "\n",
    "centroids = kmeans.cluster_centers_\n",
    "pred_clusters    = kmeans.labels_\n",
    "\n",
    "for i in range(len(features)):\n",
    "    print(\"Data Point: \",features[i],\" Cluster: \",pred_clusters[i])"
   ]
  },
  {
   "cell_type": "code",
   "execution_count": 5,
   "metadata": {},
   "outputs": [],
   "source": [
    "# Purity Score function\n",
    "def purity_score(y_true, y_pred):\n",
    "    # compute contingency matrix (also called confusion matrix)\n",
    "    contingency_matrix = metrics.cluster.contingency_matrix(y_true, y_pred)\n",
    "    # return purity\n",
    "    return np.sum(np.amax(contingency_matrix, axis=0)) / np.sum(contingency_matrix) \n"
   ]
  },
  {
   "cell_type": "code",
   "execution_count": 6,
   "metadata": {},
   "outputs": [
    {
     "name": "stdout",
     "output_type": "stream",
     "text": [
      "The Purity is 90%\n"
     ]
    }
   ],
   "source": [
    "#Finding purity between predicted clusters and ground truth\n",
    "print('The Purity is {}%'.format(round((purity_score(clusters,pred_clusters))*100),2))"
   ]
  },
  {
   "cell_type": "markdown",
   "metadata": {
    "colab_type": "text",
    "id": "CsImMLOzK1dV"
   },
   "source": [
    "4. There are several distance metrics for  K-Means such as euclidean, squared euclidean, Manhattan, Chebyshev, Minkowski. [ __Hints:__ See the pyclustering library for python.]\n",
    "    - Your job is to compare the purity score of k-means clustering for different distance metrics. __(5 marks)__ \n",
    "    - Select the best distance metric and explain why this distance metric is best for the given dataset. __(2 marks)__ "
   ]
  },
  {
   "cell_type": "code",
   "execution_count": 16,
   "metadata": {
    "scrolled": false
   },
   "outputs": [
    {
     "name": "stdout",
     "output_type": "stream",
     "text": [
      "Which Distance metric You want to select to perform KMeans\n",
      "Press 1 for Euclidean\n",
      "Press 2 for Square Euclidean\n",
      "Press 3 for Manhattan\n",
      "Press 4 for Chebyshev\n",
      "Press 5 for Minkowski\n",
      "\n",
      "Enter Number: 6\n",
      "Incorrect Num! \n",
      "Re-Run the Cell\n"
     ]
    },
    {
     "ename": "SystemExit",
     "evalue": "",
     "output_type": "error",
     "traceback": [
      "An exception has occurred, use %tb to see the full traceback.\n",
      "\u001b[1;31mSystemExit\u001b[0m\n"
     ]
    },
    {
     "name": "stderr",
     "output_type": "stream",
     "text": [
      "C:\\Users\\Shoib\\anaconda3\\lib\\site-packages\\IPython\\core\\interactiveshell.py:3339: UserWarning: To exit: use 'exit', 'quit', or Ctrl-D.\n",
      "  warn(\"To exit: use 'exit', 'quit', or Ctrl-D.\", stacklevel=1)\n"
     ]
    }
   ],
   "source": [
    "## KMeans using the Euclidean Distance\n",
    "print('Which Distance metric You want to select to perform KMeans')\n",
    "print('Press 1 for Euclidean')\n",
    "print('Press 2 for Square Euclidean')\n",
    "print('Press 3 for Manhattan')\n",
    "print('Press 4 for Chebyshev')\n",
    "print('Press 5 for Minkowski')\n",
    "print('')\n",
    "num = int(input(\"Enter Number: \"))\n",
    "\n",
    "\n",
    "if num ==1:\n",
    "        metric = distance_metric(type_metric.EUCLIDEAN)\n",
    "        metric_name = 'Euclidean'\n",
    "elif num ==2:\n",
    "        metric = distance_metric(type_metric.EUCLIDEAN_SQUARE)\n",
    "        metric_name = 'Squared Euclidean'\n",
    "elif num ==3:\n",
    "        metric = distance_metric(type_metric.MANHATTAN)\n",
    "        metric_name = 'Manhattan'\n",
    "elif num ==4:\n",
    "        metric = distance_metric(type_metric.CHEBYSHEV)\n",
    "        metric_name = 'Chebyshev'\n",
    "elif num ==5:\n",
    "        metric = distance_metric(type_metric.MINKOWSKI,degree=4)\n",
    "        metric_name = 'Minkowski'\n",
    "else:\n",
    "    print(\"Incorrect Num! \\nRe-Run the Cell\")\n",
    "    import sys \n",
    "    sys.exit()\n",
    "    \n",
    "  \n",
    "from pyclustering.cluster.kmeans import kmeans, kmeans_visualizer\n",
    "#Prepare initial centers using K-Means++ method.\n",
    "initial_centers = kmeans_plusplus_initializer(data, 3).initialize()\n",
    "# Create instance of K-Means algorithm with prepared centers\n",
    "kmeans_instance = kmeans(data, initial_centers,metric = metric)\n",
    "\n",
    "# Run cluster analysis and obtain results.\n",
    "kmeans_instance.process()\n",
    "py_pred_clusters = kmeans_instance.get_clusters()\n",
    "py_centers = kmeans_instance.get_centers()\n",
    "\n",
    "from itertools import repeat\n",
    "#Encoding the obtained cluster result\n",
    "cluster0 = list(repeat(0,len(py_pred_clusters[0])))  \n",
    "cluster1 = list(repeat(1,len(py_pred_clusters[1])))\n",
    "cluster2 = list(repeat(2,len(py_pred_clusters[2])))\n",
    "py_pred_clusters = cluster0\n",
    "for val in cluster1:\n",
    "    py_pred_clusters.append(val)\n",
    "for val in cluster2:\n",
    "    py_pred_clusters.append(val)\n",
    "    \n",
    "py_pred_clusters= np.array(py_pred_clusters)\n",
    "score = purity_score(clusters,py_pred_clusters)\n",
    "\n",
    "print('Purity score with Kmeans predicted clusters using {} metric is {}%'.format(metric_name,round(score*100,2)))\n",
    "   \n",
    "\n",
    "    "
   ]
  },
  {
   "cell_type": "markdown",
   "metadata": {},
   "source": [
    "Lookng at the purity scores of all the distances, I can certainly say that considering my dataset, Manhattan distance metric seems the best amongst all as it provides the highest purity when compared to the ground Truth"
   ]
  },
  {
   "cell_type": "markdown",
   "metadata": {
    "colab_type": "text",
    "id": "xsG5SQti4b7E"
   },
   "source": [
    "5. Use selection criteria (ANOVA, Chi-squared) to select best three features and use them for K-Means clustering. __(3 marks)__"
   ]
  },
  {
   "cell_type": "code",
   "execution_count": 14,
   "metadata": {},
   "outputs": [
    {
     "name": "stdout",
     "output_type": "stream",
     "text": [
      "Which selecttion criteria out of ANOVA and Chi2 do you want to you?\n",
      "Press 1 for Chi2\n",
      "Press 2 for Anova\n",
      "\n",
      "Enter Number: 5\n",
      "Invalid entry! Re-run the cell\n"
     ]
    }
   ],
   "source": [
    "# Feature extraction\n",
    "\n",
    "\n",
    "print('Which selecttion criteria out of ANOVA and Chi2 do you want to you?')\n",
    "print('Press 1 for Chi2')\n",
    "print('Press 2 for Anova')\n",
    "print('')\n",
    "num = int(input(\"Enter Number: \"))\n",
    "\n",
    "\n",
    "if num ==1:\n",
    "        Chi_test = SelectKBest(score_func=chi2, k=3)\n",
    "        best_feat = Chi_test.fit_transform(data,clusters)\n",
    "        # Summarize scores\n",
    "        chi_Kmean = KMeans(n_clusters=3)\n",
    "        chi_Kmean.fit(best_feat)\n",
    "        print('Purity score by selecting 3 best features using Chi2 Selection criteria is {}%'.format(round(purity_score(clusters,chi_Kmean.labels_)*100,2)))\n",
    "\n",
    "elif num ==2:\n",
    "        Anova_test = SelectKBest(f_classif, k=3)\n",
    "        best_feat = Anova_test.fit_transform(data,clusters)\n",
    "\n",
    "        # Summarize scores\n",
    "        Anova_Kmean = KMeans(n_clusters=3)\n",
    "        Anova_Kmean.fit(best_feat)\n",
    "        print('Purity score by selecting 3 best features using Anova Selection criteria is {}%'.format(round(purity_score(clusters,Anova_Kmean.labels_)*100,2)))\n",
    "\n",
    "       \n",
    "\n",
    "else:\n",
    "    print('Invalid entry! Re-run the cell')\n",
    "\n",
    "\n",
    "\n"
   ]
  },
  {
   "cell_type": "markdown",
   "metadata": {
    "colab": {},
    "colab_type": "code",
    "id": "9lCTzujBKpL4"
   },
   "source": [
    "# INSERT your code (or comment) here"
   ]
  },
  {
   "cell_type": "markdown",
   "metadata": {},
   "source": [
    "By looking at the priority score of Chi2 and Anova which is 93% and 89% respectively, I would recommend Chi2 over Anova as it provides more accurate feautures than Anova when compared to the Ground Truth."
   ]
  },
  {
   "cell_type": "markdown",
   "metadata": {
    "colab_type": "text",
    "id": "Key1p4RKLEW9"
   },
   "source": [
    "# Part-2 (Dimensionality Reduction using PCA/SVD) *(15 marks)*\n",
    "\n",
    "1. For the dataset (clustering.csv), perform PCA.\n",
    "    - plot the captured variance with respect to increasing latent dimensionality. __(2.5 marks)__\n",
    "  \n",
    "  What is the minimum dimension that captures:\n",
    "    - at least 89% variance? __(1.5 marks)__\n",
    "    - at least 99% variance? __(1 marks)__"
   ]
  },
  {
   "cell_type": "code",
   "execution_count": 17,
   "metadata": {
    "colab": {},
    "colab_type": "code",
    "id": "EkJU33yYKpen"
   },
   "outputs": [
    {
     "data": {
      "image/png": "[encoded data removed]",
      "text/plain": [
       "<Figure size 432x288 with 1 Axes>"
      ]
     },
     "metadata": {
      "needs_background": "light"
     },
     "output_type": "display_data"
    }
   ],
   "source": [
    "# INSERT your code (or comment) here\n",
    "\n",
    "from sklearn.preprocessing import scale\n",
    "from sklearn.decomposition import PCA\n",
    "\n",
    "Xnorm = scale(data)\n",
    "pca = PCA()\n",
    "pca.fit(Xnorm)\n",
    "\n",
    "\n",
    "var = pca.explained_variance_ratio_\n",
    "\n",
    "var1 = np.cumsum(np.round(var,decimals = 4)*100)\n",
    "var1\n",
    "plt.plot(var1, marker = 'o',linestyle = '--')\n",
    "plt.xlabel(\"Principal Components\")\n",
    "plt.ylabel(\"Variance Captured\")\n",
    "plt.grid()\n",
    "plt.show()\n",
    "\n"
   ]
  },
  {
   "cell_type": "markdown",
   "metadata": {
    "colab_type": "text",
    "id": "x9JPYP0vLKzp"
   },
   "source": [
    "2. Determine the purity of clusters formed by the number of principal components which captured 89% and 99% variances respectively. Plot a line graph of the purity scores against the captured variances. Discuss your findings. __(7 marks)__"
   ]
  },
  {
   "cell_type": "code",
   "execution_count": 18,
   "metadata": {
    "colab": {},
    "colab_type": "code",
    "id": "8_a-xp2PKpya",
    "scrolled": true
   },
   "outputs": [
    {
     "data": {
      "image/png": "[encoded data removed]",
      "text/plain": [
       "<Figure size 576x360 with 1 Axes>"
      ]
     },
     "metadata": {
      "needs_background": "light"
     },
     "output_type": "display_data"
    },
    {
     "name": "stdout",
     "output_type": "stream",
     "text": [
      "Purity Score using 3 PCA components which capture 89% Variance is 97.14%\n",
      "------------------------------------------\n"
     ]
    },
    {
     "data": {
      "image/png": "[encoded data removed]",
      "text/plain": [
       "<Figure size 576x360 with 1 Axes>"
      ]
     },
     "metadata": {
      "needs_background": "light"
     },
     "output_type": "display_data"
    },
    {
     "name": "stdout",
     "output_type": "stream",
     "text": [
      "Purity Score using 4 PCA components which capture 99% Variance is 98.1%\n"
     ]
    },
    {
     "data": {
      "image/png": "[encoded data removed]",
      "text/plain": [
       "<Figure size 576x360 with 1 Axes>"
      ]
     },
     "metadata": {
      "needs_background": "light"
     },
     "output_type": "display_data"
    }
   ],
   "source": [
    "# INSERT your code (or comment) here\n",
    "#PC which captured 89%\n",
    "pca89 = PCA(n_components=3)\n",
    "Xnorm = scale(data)\n",
    "pca89.fit(Xnorm)\n",
    "score89 = pca89.transform(Xnorm)\n",
    "\n",
    "#Elbow for 89% Variance\n",
    "distortions89 = []\n",
    "K = range(1,10)\n",
    "for k in K:\n",
    "    kmean_pca_89 = KMeans(n_clusters=k)\n",
    "    kmean_pca_89.fit(score89)\n",
    "    distortions89.append(kmean_pca_89.inertia_)\n",
    "    \n",
    "plt.figure(figsize=(8,5))\n",
    "plt.plot(K, distortions89, 'bx-')\n",
    "plt.xlabel('k')\n",
    "plt.ylabel('Distortion')\n",
    "plt.title('The Elbow Method showing the optimal k for 89% Variance')\n",
    "plt.grid()\n",
    "plt.show()\n",
    "\n",
    "# Elbow Method Suggests 3 clusters\n",
    "kmean_pca_89 = KMeans(n_clusters=3)\n",
    "kmean_pca_89.fit(score89)\n",
    "centers_89 =  kmean_pca_89.cluster_centers_\n",
    "labaels_89 = kmean_pca_89.labels_\n",
    "\n",
    "centers_89\n",
    "labaels_89\n",
    "\n",
    "print('Purity Score using 3 PCA components which capture 89% Variance is {}%'.format(round(purity_score(clusters,labaels_89)*100,2)))\n",
    "\n",
    "print('------------------------------------------')\n",
    "\n",
    "pca99 = PCA(n_components=4)\n",
    "pca99.fit(Xnorm)\n",
    "score99 = pca99.transform(Xnorm)\n",
    "\n",
    "#Elbow for 99% Variance\n",
    "distortions99 = []\n",
    "K = range(1,10)\n",
    "for k in K:\n",
    "    kmean_pca_99 = KMeans(n_clusters=k)\n",
    "    kmean_pca_99.fit(score99)\n",
    "    distortions99.append(kmean_pca_99.inertia_)\n",
    "    \n",
    "plt.figure(figsize=(8,5))\n",
    "plt.plot(K, distortions89, 'bx-')\n",
    "plt.xlabel('k')\n",
    "plt.ylabel('Distortion')\n",
    "plt.title('The Elbow Method showing the optimal k for 99% Variance')\n",
    "plt.grid()\n",
    "plt.show()\n",
    "\n",
    "# Elbow Method Suggests 3 clusters\n",
    "kmean_pca_99 = KMeans(n_clusters=3)\n",
    "kmean_pca_99.fit(score99)\n",
    "centers_99 =  kmean_pca_99.cluster_centers_\n",
    "labaels_99 = kmean_pca_99.labels_\n",
    "\n",
    "centers_99\n",
    "labaels_99\n",
    "print('Purity Score using 4 PCA components which capture 99% Variance is {}%'.format(round(purity_score(clusters,labaels_99)*100,2)))\n",
    "\n",
    "\n",
    "\n",
    "plotdata = np.array([(0.89,0.99),(purity_score(clusters,labaels_89),purity_score(clusters,labaels_99))])\n",
    "plt.figure(figsize=(8,5))\n",
    "plt.plot( plotdata[0], plotdata[1], linestyle='-', marker='o')\n",
    "plt.grid()\n",
    "plt.show()\n",
    "\n",
    "\n",
    "\n"
   ]
  },
  {
   "cell_type": "markdown",
   "metadata": {},
   "source": [
    "By looking at the graph I can conclude that Variance is directly proportional to the purity scored obtained by comparing it to the ground truth. As the we increase the variance, the purity keeps on increasing providng more accuracy."
   ]
  },
  {
   "cell_type": "markdown",
   "metadata": {
    "colab_type": "text",
    "id": "8RmhzV_MK-ia"
   },
   "source": [
    "3. Let's assume you have two datasets one is linear and another is curved structural data.\n",
    "    - Can we apply PCA on these datasets? Justify your answer. __(3 marks)__ "
   ]
  },
  {
   "cell_type": "markdown",
   "metadata": {
    "colab": {},
    "colab_type": "code",
    "id": "_9NpVDBwKqD-"
   },
   "source": [
    "# INSERT your code (or comment) here\n",
    "\n",
    "PCA is preffered to Linear Data, PCA basically transforms the data by reducing its dimensionalty. It transforms a large set of variables into a smaller on which still contains most of the information. This doesnt rule out the porribility of performing PCA on non linear data but the result wont provide any solid information. Their are other methods which are more suited to non linear data but PCA is commonly used for linear data."
   ]
  }
 ],
 "metadata": {
  "colab": {
   "collapsed_sections": [],
   "name": "A2.ipynb",
   "provenance": []
  },
  "kernelspec": {
   "display_name": "Python 3",
   "language": "python",
   "name": "python3"
  },
  "language_info": {
   "codemirror_mode": {
    "name": "ipython",
    "version": 3
   },
   "file_extension": ".py",
   "mimetype": "text/x-python",
   "name": "python",
   "nbconvert_exporter": "python",
   "pygments_lexer": "ipython3",
   "version": "3.7.6"
  }
 },
 "nbformat": 4,
 "nbformat_minor": 1
}
